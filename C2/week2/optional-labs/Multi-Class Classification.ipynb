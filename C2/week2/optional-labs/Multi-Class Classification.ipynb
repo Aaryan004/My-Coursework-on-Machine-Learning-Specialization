{
 "cells": [
  {
   "cell_type": "code",
   "execution_count": 46,
   "id": "2504bf2b",
   "metadata": {},
   "outputs": [],
   "source": [
    "import numpy as np\n",
    "import matplotlib.pyplot as plt\n",
    "%matplotlib widget\n",
    "from sklearn.datasets import make_blobs\n",
    "import tensorflow as tf\n",
    "from tensorflow.keras.models import Sequential\n",
    "from tensorflow.keras.layers import Dense\n",
    "np.set_printoptions(precision=2)\n",
    "from lab_utils_multiclass_TF import *\n",
    "import logging\n",
    "logging.getLogger(\"tensorflow\").setLevel(logging.ERROR)\n",
    "tf.autograph.set_verbosity(0)"
   ]
  },
  {
   "cell_type": "code",
   "execution_count": 47,
   "id": "41a4faad",
   "metadata": {},
   "outputs": [],
   "source": [
    "classes=4\n",
    "m=100\n",
    "centers=[[-5,2],[-2,-2],[1,2],[5,-2]]\n",
    "std=1.0\n",
    "X_train, y_train = make_blobs(n_samples=m, centers=centers, cluster_std=std,random_state=30)"
   ]
  },
  {
   "cell_type": "code",
   "execution_count": 48,
   "id": "3482b8fb",
   "metadata": {},
   "outputs": [],
   "source": [
    "plt_mc(X_train,y_train,classes,centers,std=std)"
   ]
  },
  {
   "cell_type": "code",
   "execution_count": 49,
   "id": "a94d147e",
   "metadata": {},
   "outputs": [],
   "source": [
    "# show classes in data set\n",
    "print(f\"unique classes {np.unique(y_train)}\")\n",
    "# show how classes are represented\n",
    "print(f\"class representation {y_train[:10]}\")\n",
    "# show shapes of our dataset\n",
    "print(f\"shape of X_train: {X_train.shape}, shape of y_train: {y_train.shape}\")"
   ]
  },
  {
   "cell_type": "code",
   "execution_count": 50,
   "id": "626969a6",
   "metadata": {},
   "outputs": [],
   "source": [
    "tf.random.set_seed(1234)\n",
    "model=Sequential([\n",
    "    Dense(units=2,activation='relu',name=\"L1\"),\n",
    "    Dense(units=4,activation='linear',name=\"L2\")\n",
    "])"
   ]
  },
  {
   "cell_type": "code",
   "execution_count": 51,
   "id": "a3ccf92c",
   "metadata": {},
   "outputs": [],
   "source": [
    "model.compile(\n",
    "    loss=tf.keras.losses.SparseCategoricalCrossentropy(from_logits=True),\n",
    "    optimizer=tf.keras.optimizers.Adam(0.01)\n",
    ")\n",
    "model.fit(X_train,y_train,epochs=200)"
   ]
  },
  {
   "cell_type": "code",
   "execution_count": 52,
   "id": "365f11b8",
   "metadata": {},
   "outputs": [],
   "source": [
    "plt_cat_mc(X_train,y_train,model,classes)"
   ]
  },
  {
   "cell_type": "code",
   "execution_count": 53,
   "id": "2623d842",
   "metadata": {},
   "outputs": [],
   "source": [
    "l1=model.get_layer(\"L1\")\n",
    "W1,b1=l1.get_weights()"
   ]
  },
  {
   "cell_type": "code",
   "execution_count": 54,
   "id": "5b2e6cea",
   "metadata": {},
   "outputs": [],
   "source": [
    "plt_layer_relu(X_train,y_train.reshape(-1,),W1,b1,classes)"
   ]
  },
  {
   "cell_type": "code",
   "execution_count": 55,
   "id": "48f5c615",
   "metadata": {},
   "outputs": [],
   "source": [
    "l2=model.get_layer(\"L2\")\n",
    "W2,b2=l2.get_weights()\n",
    "Xl2=np.maximum(0,np.dot(X_train,W1)+b1)\n",
    "plt_output_layer_linear(Xl2, y_train.reshape(-1,),W2,b2,classes,x0_rng=(-0.25,np.amax(Xl2[:,0])),x1_rng=(-0.25,np.amax(Xl2[:,1])))"
   ]
  },
  {
   "cell_type": "code",
   "execution_count": null,
   "id": "a2955b82",
   "metadata": {},
   "outputs": [],
   "source": []
  }
 ],
 "metadata": {
  "kernelspec": {
   "display_name": "Python 3 (ipykernel)",
   "language": "python",
   "name": "python3"
  },
  "language_info": {
   "codemirror_mode": {
    "name": "ipython",
    "version": 3
   },
   "file_extension": ".py",
   "mimetype": "text/x-python",
   "name": "python",
   "nbconvert_exporter": "python",
   "pygments_lexer": "ipython3",
   "version": "3.11.4"
  }
 },
 "nbformat": 4,
 "nbformat_minor": 5
}
