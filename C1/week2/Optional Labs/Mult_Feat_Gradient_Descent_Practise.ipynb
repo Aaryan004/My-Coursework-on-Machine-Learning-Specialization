{
 "cells": [
  {
   "cell_type": "code",
   "execution_count": 1,
   "id": "b445e9f7",
   "metadata": {},
   "outputs": [],
   "source": [
    "import copy, math\n",
    "import numpy as np\n",
    "import matplotlib.pyplot as plt\n",
    "plt.style.use('./deeplearning.mplstyle')\n",
    "np.set_printoptions(precision=2) "
   ]
  },
  {
   "cell_type": "code",
   "execution_count": 2,
   "id": "1863ecc9",
   "metadata": {},
   "outputs": [],
   "source": [
    "X_train=np.array([[2104,5,1,45],[1416,3,2,40],[852,2,1,35]])\n",
    "y_train=np.array([460,232,178])"
   ]
  },
  {
   "cell_type": "code",
   "execution_count": 3,
   "id": "ebd87aaf",
   "metadata": {},
   "outputs": [
    {
     "name": "stdout",
     "output_type": "stream",
     "text": [
      "X Shape: (3, 4), X Type:<class 'numpy.ndarray'>)\n",
      "[[2104    5    1   45]\n",
      " [1416    3    2   40]\n",
      " [ 852    2    1   35]]\n",
      "y Shape: (3,), y Type:<class 'numpy.ndarray'>)\n",
      "[460 232 178]\n"
     ]
    }
   ],
   "source": [
    "print(f\"X Shape: {X_train.shape}, X Type:{type(X_train)})\")\n",
    "print(X_train)\n",
    "print(f\"y Shape: {y_train.shape}, y Type:{type(y_train)})\")\n",
    "print(y_train)"
   ]
  },
  {
   "cell_type": "code",
   "execution_count": 4,
   "id": "7e66bbda",
   "metadata": {},
   "outputs": [
    {
     "name": "stdout",
     "output_type": "stream",
     "text": [
      "(4,)\n",
      "<class 'float'>\n"
     ]
    }
   ],
   "source": [
    "b_init=785.1811367994083\n",
    "w_init=np.array([0.39133535, 18.75376741, -53.36032453, -26.42131618])\n",
    "print(w_init.shape)\n",
    "print(type(b_init))"
   ]
  },
  {
   "cell_type": "code",
   "execution_count": 5,
   "id": "4d37a7f1",
   "metadata": {},
   "outputs": [],
   "source": [
    "def predict_single_loop(x, w, b): \n",
    "    n = x.shape[0]\n",
    "    p = 0\n",
    "    for i in range(n):\n",
    "        p_i = x[i] * w[i]  \n",
    "        p = p + p_i         \n",
    "    p = p + b                \n",
    "    return p"
   ]
  },
  {
   "cell_type": "code",
   "execution_count": 6,
   "id": "498dc3fe",
   "metadata": {},
   "outputs": [
    {
     "name": "stdout",
     "output_type": "stream",
     "text": [
      "(4,)\n",
      "[2104    5    1   45]\n"
     ]
    }
   ],
   "source": [
    "x_vec=X_train[0,:]\n",
    "print(x_vec.shape)\n",
    "print(x_vec)"
   ]
  },
  {
   "cell_type": "code",
   "execution_count": 7,
   "id": "82d39bf0",
   "metadata": {},
   "outputs": [
    {
     "name": "stdout",
     "output_type": "stream",
     "text": [
      "()\n",
      "459.9999976194083\n"
     ]
    }
   ],
   "source": [
    "f_wb=predict_single_loop(x_vec,w_init,b_init)\n",
    "print(f_wb.shape)\n",
    "print(f_wb)"
   ]
  },
  {
   "cell_type": "code",
   "execution_count": 8,
   "id": "dbd04243",
   "metadata": {},
   "outputs": [],
   "source": [
    "def predict(x,w,b):\n",
    "    f_wb=np.dot(x,w)+b\n",
    "    return f_wb"
   ]
  },
  {
   "cell_type": "code",
   "execution_count": 9,
   "id": "abbc3d16",
   "metadata": {},
   "outputs": [
    {
     "name": "stdout",
     "output_type": "stream",
     "text": [
      "()\n",
      "459.99999761940825\n"
     ]
    }
   ],
   "source": [
    "f_wb=predict(x_vec,w_init,b_init)\n",
    "print(f_wb.shape)\n",
    "print(f_wb)"
   ]
  },
  {
   "cell_type": "code",
   "execution_count": 10,
   "id": "91187ee4",
   "metadata": {},
   "outputs": [
    {
     "data": {
      "text/plain": [
       "3"
      ]
     },
     "execution_count": 10,
     "metadata": {},
     "output_type": "execute_result"
    }
   ],
   "source": [
    "X_train.shape[0]"
   ]
  },
  {
   "cell_type": "code",
   "execution_count": 11,
   "id": "9fd75bb4",
   "metadata": {},
   "outputs": [],
   "source": [
    "def compute_cost(X,y,w,b):\n",
    "    m=X.shape[0]\n",
    "    cost=0.0\n",
    "    for i in range(m):\n",
    "        f_wb=np.dot(w,X[i])+b\n",
    "        cost+=(f_wb-y[i])**2\n",
    "    cost=cost/(2*m)\n",
    "    return cost"
   ]
  },
  {
   "cell_type": "code",
   "execution_count": 12,
   "id": "88ff8f26",
   "metadata": {},
   "outputs": [
    {
     "name": "stdout",
     "output_type": "stream",
     "text": [
      "1.5578904880036537e-12\n"
     ]
    }
   ],
   "source": [
    "cost=compute_cost(X_train,y_train,w_init,b_init)\n",
    "print(cost)"
   ]
  },
  {
   "cell_type": "code",
   "execution_count": 14,
   "id": "a61cefda",
   "metadata": {},
   "outputs": [
    {
     "data": {
      "text/plain": [
       "(3, 4)"
      ]
     },
     "execution_count": 14,
     "metadata": {},
     "output_type": "execute_result"
    }
   ],
   "source": [
    "X_train.shape"
   ]
  },
  {
   "cell_type": "code",
   "execution_count": 21,
   "id": "1ff07c31",
   "metadata": {},
   "outputs": [],
   "source": [
    "def compute_gradient(X,y,w,b):\n",
    "    m=X.shape[0]\n",
    "    n=X.shape[1]\n",
    "    dj_dw=np.zeros((n,))\n",
    "    dj_db=0\n",
    "    for i in range(m):\n",
    "        err=(np.dot(X[i],w)+b)-y[i]\n",
    "        for j in range(n):\n",
    "            dj_dw[j]+=err*X[i][j]\n",
    "        dj_db+=err\n",
    "    \n",
    "    dj_dw=dj_dw/m\n",
    "    dj_db=dj_db/m\n",
    "    return dj_dw, dj_db"
   ]
  },
  {
   "cell_type": "code",
   "execution_count": 20,
   "id": "a0b4971d",
   "metadata": {},
   "outputs": [
    {
     "name": "stdout",
     "output_type": "stream",
     "text": [
      "[0. 0. 0.]\n"
     ]
    }
   ],
   "source": [
    "x=np.zeros((3,))\n",
    "print(x)"
   ]
  },
  {
   "cell_type": "code",
   "execution_count": 22,
   "id": "df21eb30",
   "metadata": {},
   "outputs": [
    {
     "name": "stdout",
     "output_type": "stream",
     "text": [
      "[-2.73e-03 -6.27e-06 -2.22e-06 -6.92e-05]\n",
      "-1.673925169143331e-06\n"
     ]
    }
   ],
   "source": [
    "tmp_dj_dw,tmp_dj_db=compute_gradient(X_train,y_train,w_init,b_init)\n",
    "print(tmp_dj_dw)\n",
    "print(tmp_dj_db)"
   ]
  },
  {
   "cell_type": "code",
   "execution_count": 31,
   "id": "a73d41b9",
   "metadata": {},
   "outputs": [],
   "source": [
    "def gradient_descent(X,y,w,b,alpha,num_iters,compute_gradient,compute_cost):\n",
    "    J_history=[]\n",
    "    w=copy.deepcopy(w) #method to copy numpy array\n",
    "    b=b\n",
    "    \n",
    "    for i in range(num_iters):\n",
    "        dj_dw,dj_db=compute_gradient(X,y,w,b)\n",
    "        \n",
    "        w=w-alpha*(dj_dw)\n",
    "        b=b-alpha*(dj_db)\n",
    "        \n",
    "        if i<100000:\n",
    "            J_history.append(compute_cost(X,y,w,b))\n",
    "            \n",
    "        if i% math.ceil(num_iters/10)==0:\n",
    "            print(f\"Iteration {i:4d} Cost {J_history[-1]:8.2f}\")\n",
    "    \n",
    "    return w,b,J_history        "
   ]
  },
  {
   "cell_type": "code",
   "execution_count": 34,
   "id": "d6bda719",
   "metadata": {},
   "outputs": [
    {
     "name": "stdout",
     "output_type": "stream",
     "text": [
      "Iteration    0 Cost  2529.46\n",
      "Iteration  100 Cost   695.99\n",
      "Iteration  200 Cost   694.92\n",
      "Iteration  300 Cost   693.86\n",
      "Iteration  400 Cost   692.81\n",
      "Iteration  500 Cost   691.77\n",
      "Iteration  600 Cost   690.73\n",
      "Iteration  700 Cost   689.71\n",
      "Iteration  800 Cost   688.70\n",
      "Iteration  900 Cost   687.69\n",
      "w_final=[ 0.2   0.   -0.01 -0.07] , b_final=-0.002235407530932535\n",
      "prediction 426.18530497189204 , target_value= 460\n",
      "prediction 286.1674720078562 , target_value= 232\n",
      "prediction 171.46763087132317 , target_value= 178\n"
     ]
    }
   ],
   "source": [
    "initial_w=np.zeros_like(w_init)\n",
    "initial_b=0.0\n",
    "iterations=1000\n",
    "alpha=5.0e-7\n",
    "\n",
    "w_final,b_final,J_hist=gradient_descent(X_train,y_train,initial_w,initial_b,alpha,iterations,compute_gradient,compute_cost)\n",
    "\n",
    "print(f\"w_final={w_final} , b_final={b_final}\")\n",
    "m,_=X_train.shape\n",
    "for i in range(m):\n",
    "    print(f\"prediction {(np.dot(X_train[i],w_final) +b_final)} , target_value= {y_train[i]}\")"
   ]
  },
  {
   "cell_type": "code",
   "execution_count": 40,
   "id": "a6b94540",
   "metadata": {},
   "outputs": [
    {
     "data": {
      "image/png": "[encoded data removed]",
      "text/plain": [
       "<Figure size 1200x400 with 2 Axes>"
      ]
     },
     "metadata": {},
     "output_type": "display_data"
    }
   ],
   "source": [
    "fig,(ax1,ax2)=plt.subplots(1,2,constrained_layout=True, figsize=(12,4))\n",
    "ax1.plot(J_hist)\n",
    "ax2.plot(100+np.arange(len(J_hist[100:])),J_hist[100:])\n",
    "ax1.set_title(\"Cost vs Iteration\") ; ax2.set_title(\"Cost vs Iteration(tail)\")\n",
    "ax1.set_xlabel(\"Iteration\") ; ax1.set_ylabel(\"Cost\")\n",
    "ax2.set_xlabel(\"Iterations\") ; ax2.set_ylabel(\"Cost\")\n",
    "plt.show()"
   ]
  },
  {
   "cell_type": "code",
   "execution_count": null,
   "id": "8965cb6a",
   "metadata": {},
   "outputs": [],
   "source": []
  }
 ],
 "metadata": {
  "kernelspec": {
   "display_name": "Python 3 (ipykernel)",
   "language": "python",
   "name": "python3"
  },
  "language_info": {
   "codemirror_mode": {
    "name": "ipython",
    "version": 3
   },
   "file_extension": ".py",
   "mimetype": "text/x-python",
   "name": "python",
   "nbconvert_exporter": "python",
   "pygments_lexer": "ipython3",
   "version": "3.11.4"
  }
 },
 "nbformat": 4,
 "nbformat_minor": 5
}
