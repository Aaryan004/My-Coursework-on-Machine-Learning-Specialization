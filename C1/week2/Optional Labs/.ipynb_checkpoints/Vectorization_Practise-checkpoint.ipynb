{
 "cells": [
  {
   "cell_type": "code",
   "execution_count": 27,
   "id": "2f291ce3",
   "metadata": {},
   "outputs": [],
   "source": [
    "import numpy as np\n",
    "import time"
   ]
  },
  {
   "cell_type": "code",
   "execution_count": 2,
   "id": "5dde67f0",
   "metadata": {},
   "outputs": [
    {
     "name": "stdout",
     "output_type": "stream",
     "text": [
      "[0. 0. 0. 0.]\n",
      "float64\n"
     ]
    }
   ],
   "source": [
    "a=np.zeros(4)\n",
    "print(a)\n",
    "print(a.dtype)"
   ]
  },
  {
   "cell_type": "code",
   "execution_count": 3,
   "id": "3e96f7e5",
   "metadata": {},
   "outputs": [
    {
     "name": "stdout",
     "output_type": "stream",
     "text": [
      "[0. 0. 0. 0.]\n",
      "float64\n"
     ]
    }
   ],
   "source": [
    "a=np.zeros((4,))\n",
    "print(a)\n",
    "print(a.dtype)"
   ]
  },
  {
   "cell_type": "code",
   "execution_count": 4,
   "id": "69a01bb0",
   "metadata": {},
   "outputs": [
    {
     "name": "stdout",
     "output_type": "stream",
     "text": [
      "[1 2 3]\n",
      "int32\n"
     ]
    }
   ],
   "source": [
    "a=np.array([1,2,3])\n",
    "print(a)\n",
    "print(a.dtype)"
   ]
  },
  {
   "cell_type": "code",
   "execution_count": 5,
   "id": "5f9c49a9",
   "metadata": {},
   "outputs": [
    {
     "name": "stdout",
     "output_type": "stream",
     "text": [
      "[0.98399612 0.51039787 0.0954717  0.95748085]\n",
      "float64\n"
     ]
    }
   ],
   "source": [
    "a=np.random.random_sample(4)\n",
    "print(a)\n",
    "print(a.dtype)"
   ]
  },
  {
   "cell_type": "code",
   "execution_count": 6,
   "id": "2e2b48b4",
   "metadata": {},
   "outputs": [
    {
     "name": "stdout",
     "output_type": "stream",
     "text": [
      "[0 1 2 3]\n",
      "int32\n"
     ]
    }
   ],
   "source": [
    "a=np.arange(4)\n",
    "print(a)\n",
    "print(a.dtype)"
   ]
  },
  {
   "cell_type": "code",
   "execution_count": 7,
   "id": "6bef0652",
   "metadata": {},
   "outputs": [
    {
     "name": "stdout",
     "output_type": "stream",
     "text": [
      "[0. 1. 2. 3.]\n",
      "float64\n"
     ]
    }
   ],
   "source": [
    "a=np.arange(4.)\n",
    "print(a)\n",
    "print(a.dtype)"
   ]
  },
  {
   "cell_type": "code",
   "execution_count": 8,
   "id": "ba50c889",
   "metadata": {},
   "outputs": [
    {
     "name": "stdout",
     "output_type": "stream",
     "text": [
      "[0.01574628 0.22116587 0.74223535 0.52848362]\n",
      "float64\n"
     ]
    }
   ],
   "source": [
    "a=np.random.rand(4) #only accepts integers\n",
    "print(a)\n",
    "print(a.dtype)"
   ]
  },
  {
   "cell_type": "code",
   "execution_count": 9,
   "id": "45ed4ac3",
   "metadata": {},
   "outputs": [
    {
     "name": "stdout",
     "output_type": "stream",
     "text": [
      "[1. 2. 3. 4.]\n",
      "float64\n"
     ]
    }
   ],
   "source": [
    "a=np.array([1.,2.,3.,4.])\n",
    "print(a)\n",
    "print(a.dtype)"
   ]
  },
  {
   "cell_type": "code",
   "execution_count": 10,
   "id": "5baafd31",
   "metadata": {},
   "outputs": [
    {
     "name": "stdout",
     "output_type": "stream",
     "text": [
      "[1 2 3 4]\n",
      "int32\n"
     ]
    }
   ],
   "source": [
    "a=np.array([1,2,3,4])\n",
    "print(a)\n",
    "print(a.dtype)"
   ]
  },
  {
   "cell_type": "code",
   "execution_count": 11,
   "id": "cb7e3841",
   "metadata": {},
   "outputs": [
    {
     "name": "stdout",
     "output_type": "stream",
     "text": [
      "[0 1 2 3 4 5 6 7 8 9]\n",
      "()\n",
      "2\n",
      "8\n"
     ]
    }
   ],
   "source": [
    "a=np.arange(10)\n",
    "print(a)\n",
    "print(a[2].shape)\n",
    "print(a[2])\n",
    "print(a[-2])"
   ]
  },
  {
   "cell_type": "code",
   "execution_count": 12,
   "id": "96415044",
   "metadata": {},
   "outputs": [
    {
     "name": "stdout",
     "output_type": "stream",
     "text": [
      "[0 1 2 3 4 5 6 7 8 9]\n",
      "[2 3 4 5 6]\n",
      "[2 5]\n",
      "[0 1 2]\n",
      "[3 4 5 6 7 8 9]\n"
     ]
    }
   ],
   "source": [
    "a=np.arange(10)\n",
    "print(a)\n",
    "c=a[2:7:1] ; print(c)\n",
    "c=a[2:7:3] ; print(c)\n",
    "c=a[:3] ; print(c)\n",
    "c=a[3:] ; print(c)\n",
    "c=a[:]"
   ]
  },
  {
   "cell_type": "code",
   "execution_count": 13,
   "id": "5ac127c2",
   "metadata": {},
   "outputs": [
    {
     "name": "stdout",
     "output_type": "stream",
     "text": [
      "[ 0 -1 -2 -3 -4 -5 -6 -7 -8 -9]\n",
      "45\n",
      "4.5\n",
      "[ 0  1  4  9 16 25 36 49 64 81]\n"
     ]
    }
   ],
   "source": [
    "a=np.arange(10)\n",
    "b=-a ; print(b)\n",
    "b=np.sum(a) ; print(b)\n",
    "b=np.mean(a) ; print(b)\n",
    "b=a**2 ; print(b)"
   ]
  },
  {
   "cell_type": "code",
   "execution_count": 14,
   "id": "cf3437e1",
   "metadata": {},
   "outputs": [
    {
     "name": "stdout",
     "output_type": "stream",
     "text": [
      "[0 0 6 8]\n"
     ]
    }
   ],
   "source": [
    "a=np.array([-1,-2,3,4])\n",
    "b=np.array([1,2,3,4])\n",
    "print(a+b)"
   ]
  },
  {
   "cell_type": "code",
   "execution_count": 15,
   "id": "38694c42",
   "metadata": {},
   "outputs": [
    {
     "name": "stdout",
     "output_type": "stream",
     "text": [
      "[ 5 10 15 20]\n"
     ]
    }
   ],
   "source": [
    "a=np.array([1,2,3,4])\n",
    "b=5*a ; print(b)"
   ]
  },
  {
   "cell_type": "code",
   "execution_count": 16,
   "id": "1e1e2f1d",
   "metadata": {},
   "outputs": [],
   "source": [
    "def my_dot(a,b):\n",
    "    x=0\n",
    "    for i in range(a.shape[0]):\n",
    "        x+=a[i]*b[i]\n",
    "    return x"
   ]
  },
  {
   "cell_type": "code",
   "execution_count": 17,
   "id": "05a9f68d",
   "metadata": {},
   "outputs": [
    {
     "data": {
      "text/plain": [
       "24"
      ]
     },
     "execution_count": 17,
     "metadata": {},
     "output_type": "execute_result"
    }
   ],
   "source": [
    "a=np.array([1,2,3,4])\n",
    "b=np.array([-1,4,3,2])\n",
    "my_dot(a,b)"
   ]
  },
  {
   "cell_type": "code",
   "execution_count": 18,
   "id": "f82771ce",
   "metadata": {},
   "outputs": [
    {
     "data": {
      "text/plain": [
       "24"
      ]
     },
     "execution_count": 18,
     "metadata": {},
     "output_type": "execute_result"
    }
   ],
   "source": [
    "a=np.array([1,2,3,4])\n",
    "b=np.array([-1,4,3,2])\n",
    "np.dot(a,b)"
   ]
  },
  {
   "cell_type": "code",
   "execution_count": 20,
   "id": "2a8c4c62",
   "metadata": {},
   "outputs": [
    {
     "name": "stdout",
     "output_type": "stream",
     "text": [
      "3.3283e+01 ms\n",
      "7.8690e-02 ms\n"
     ]
    }
   ],
   "source": [
    "np.random.seed(1)\n",
    "a=np.random.random_sample(100000000)\n",
    "b=np.random.random_sample(100000000)\n",
    "\n",
    "tic=time.time()\n",
    "c=my_dot(a,b)\n",
    "toc=time.time() ; print(f\"{(toc-tic):.4e} ms\")\n",
    "\n",
    "tic=time.time()\n",
    "c=np.dot(a,b)\n",
    "toc=time.time() ; print(f\"{(toc-tic):.4e} ms\")"
   ]
  },
  {
   "cell_type": "code",
   "execution_count": 23,
   "id": "5f3ea9df",
   "metadata": {},
   "outputs": [
    {
     "name": "stdout",
     "output_type": "stream",
     "text": [
      "(4, 1)\n",
      "(1,)\n",
      "(1,)\n",
      "()\n",
      "2\n"
     ]
    }
   ],
   "source": [
    "X=np.array([[1],[2],[3],[4]])\n",
    "w=np.array([2])\n",
    "c=np.dot(X[0],w)\n",
    "\n",
    "print(X.shape)\n",
    "print(X[0].shape)\n",
    "print(w.shape)\n",
    "print(c.shape)\n",
    "print(c)"
   ]
  },
  {
   "cell_type": "code",
   "execution_count": 24,
   "id": "d219ec6d",
   "metadata": {},
   "outputs": [
    {
     "name": "stdout",
     "output_type": "stream",
     "text": [
      "(1, 5)\n",
      "[[0. 0. 0. 0. 0.]]\n"
     ]
    }
   ],
   "source": [
    "a=np.zeros((1,5))\n",
    "print(a.shape)\n",
    "print(a)"
   ]
  },
  {
   "cell_type": "code",
   "execution_count": 26,
   "id": "8b49dc65",
   "metadata": {},
   "outputs": [
    {
     "name": "stdout",
     "output_type": "stream",
     "text": [
      "(2, 1)\n",
      "[[0.]\n",
      " [0.]]\n"
     ]
    }
   ],
   "source": [
    "a=np.zeros((2,1))\n",
    "print(a.shape)\n",
    "print(a)\n",
    "print(a.random.random_sample(()))"
   ]
  },
  {
   "cell_type": "code",
   "execution_count": 28,
   "id": "0beb8708",
   "metadata": {},
   "outputs": [
    {
     "name": "stdout",
     "output_type": "stream",
     "text": [
      "[[0.8582913]]\n",
      "(1, 1)\n"
     ]
    }
   ],
   "source": [
    "a=np.random.random_sample((1,1))\n",
    "print(a)\n",
    "print(a.shape)"
   ]
  },
  {
   "cell_type": "code",
   "execution_count": 31,
   "id": "29d44c8d",
   "metadata": {},
   "outputs": [
    {
     "name": "stdout",
     "output_type": "stream",
     "text": [
      "[[5]\n",
      " [3]\n",
      " [4]]\n",
      "(3, 1)\n"
     ]
    }
   ],
   "source": [
    "a=np.array([[5],[3],[4]])\n",
    "print(a)\n",
    "print(a.shape)"
   ]
  },
  {
   "cell_type": "code",
   "execution_count": 41,
   "id": "04e97310",
   "metadata": {},
   "outputs": [
    {
     "name": "stdout",
     "output_type": "stream",
     "text": [
      "[[0 1]\n",
      " [2 3]\n",
      " [4 5]]\n",
      "[0 1]\n",
      "1\n",
      "(3, 2)\n",
      "(2,)\n",
      "()\n",
      "<class 'numpy.ndarray'>\n",
      "<class 'numpy.ndarray'>\n",
      "<class 'numpy.int32'>\n"
     ]
    }
   ],
   "source": [
    "a=np.arange(6).reshape(-1,2)\n",
    "print(a) ; print(a[0]) ; print(a[0][1])\n",
    "print(a.shape) ; print(a[0].shape) ; print(a[0][1].shape)\n",
    "print(type(a)) ; print(type(a[0])) ; print(type(a[0][1]))"
   ]
  },
  {
   "cell_type": "code",
   "execution_count": 60,
   "id": "618005b7",
   "metadata": {},
   "outputs": [
    {
     "name": "stdout",
     "output_type": "stream",
     "text": [
      "[2 3 4 5 6]\n",
      "(5,)\n",
      "[2 5]\n",
      "(2,)\n",
      "[[ 2  3  4  5  6]\n",
      " [12 13 14 15 16]]\n",
      "(2, 5)\n",
      "[[2 3 4 5 6]]\n",
      "(1, 5)\n",
      "[[ 2  3  4  5  6]\n",
      " [12 13 14 15 16]]\n",
      "(2, 5)\n",
      "[[ 0  1  2  3  4  5  6  7  8  9]\n",
      " [10 11 12 13 14 15 16 17 18 19]]\n",
      "(2, 10)\n",
      "[10 11 12 13 14 15 16 17 18 19]\n",
      "(10,)\n"
     ]
    }
   ],
   "source": [
    "a=np.arange(20).reshape(-1,10)\n",
    "c=a[0][2:7:1] ; print(c) ; print(c.shape)\n",
    "c=a[0][2:7:3] ; print(c) ; print(c.shape)\n",
    "c=a[: , 2:7:1] ; print(c) ; print(c.shape)\n",
    "c=a[:1,2:7:1] ; print(c) ; print(c.shape)\n",
    "c=a[0:,2:7:1] ; print(c) ; print(c.shape)\n",
    "c=a[:,:] ; print(c) ; print(c.shape)\n",
    "c=a[1,::] ; print(c) ; print(c.shape)"
   ]
  },
  {
   "cell_type": "code",
   "execution_count": null,
   "id": "0299a9ad",
   "metadata": {},
   "outputs": [],
   "source": []
  }
 ],
 "metadata": {
  "kernelspec": {
   "display_name": "Python 3 (ipykernel)",
   "language": "python",
   "name": "python3"
  },
  "language_info": {
   "codemirror_mode": {
    "name": "ipython",
    "version": 3
   },
   "file_extension": ".py",
   "mimetype": "text/x-python",
   "name": "python",
   "nbconvert_exporter": "python",
   "pygments_lexer": "ipython3",
   "version": "3.11.4"
  }
 },
 "nbformat": 4,
 "nbformat_minor": 5
}
