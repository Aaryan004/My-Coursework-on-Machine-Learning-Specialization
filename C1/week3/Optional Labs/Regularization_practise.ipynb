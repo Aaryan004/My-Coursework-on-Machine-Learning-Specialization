{
 "cells": [
  {
   "cell_type": "code",
   "execution_count": 4,
   "id": "ba03d8d1",
   "metadata": {},
   "outputs": [],
   "source": [
    "import numpy as np\n",
    "%matplotlib widget\n",
    "import matplotlib.pyplot as plt\n",
    "from plt_overfit import overfit_example, output\n",
    "from lab_utils_common import sigmoid\n",
    "np.set_printoptions(precision=8)"
   ]
  },
  {
   "cell_type": "code",
   "execution_count": 9,
   "id": "26012931",
   "metadata": {},
   "outputs": [],
   "source": [
    "def compute_cost_linear_reg(X,y,w,b,lambda_=1):\n",
    "    m=X.shape[0]\n",
    "    n=len(w)\n",
    "    cost=0.\n",
    "    for i in range(m):\n",
    "        f_wb_i=np.dot(X[i],w)+b\n",
    "        err=f_wb_i-y[i]\n",
    "        cost+=err**2\n",
    "    cost=cost/(2*m)\n",
    "    \n",
    "    reg_cost=0.\n",
    "    for j in range(n):\n",
    "        reg_cost+=w[j]**2\n",
    "    reg_cost=lambda_*reg_cost/(2*m)\n",
    "    \n",
    "    total_cost=cost+reg_cost\n",
    "    return total_cost"
   ]
  },
  {
   "cell_type": "code",
   "execution_count": 10,
   "id": "3c31d53e",
   "metadata": {},
   "outputs": [
    {
     "name": "stdout",
     "output_type": "stream",
     "text": [
      "Regularized Cost: 0.07917239320214275\n"
     ]
    }
   ],
   "source": [
    "np.random.seed(1)\n",
    "X_tmp=np.random.rand(5,6)\n",
    "y_tmp=np.array([0,1,0,1,0])\n",
    "w_tmp=np.random.rand(X_tmp.shape[1]).reshape(-1,)-0.5\n",
    "b_tmp=0.5\n",
    "lambda_tmp=0.7\n",
    "cost_tmp=compute_cost_linear_reg(X_tmp,y_tmp,w_tmp,b_tmp,lambda_tmp)\n",
    "\n",
    "print(f\"Regularized Cost: {cost_tmp}\")"
   ]
  },
  {
   "cell_type": "code",
   "execution_count": 21,
   "id": "7230317f",
   "metadata": {},
   "outputs": [],
   "source": [
    "def compute_cost_logistic_reg(X,y,w,b,lambda_=1):\n",
    "    m,n=X.shape\n",
    "    cost=0.\n",
    "    for i in range(m):\n",
    "        z_i=np.dot(X[i],w)+b\n",
    "        f_wb_i=sigmoid(z_i)\n",
    "        cost+=-1*(y[i]*np.log(f_wb_i)+(1-y[i])*np.log(1-f_wb_i))\n",
    "    cost=cost/(m)\n",
    "    \n",
    "    reg_cost=0.\n",
    "    for j in range(n):\n",
    "        reg_cost+=w[j]**2\n",
    "    reg_cost=(lambda_/(2*m))*reg_cost\n",
    "    \n",
    "    total_cost=cost+reg_cost\n",
    "    return total_cost"
   ]
  },
  {
   "cell_type": "code",
   "execution_count": 22,
   "id": "4b2d52ba",
   "metadata": {},
   "outputs": [
    {
     "name": "stdout",
     "output_type": "stream",
     "text": [
      "Regularized cost: 0.6850849138741673\n"
     ]
    }
   ],
   "source": [
    "np.random.seed(1)\n",
    "X_tmp = np.random.rand(5,6)\n",
    "y_tmp = np.array([0,1,0,1,0])\n",
    "w_tmp = np.random.rand(X_tmp.shape[1]).reshape(-1,)-0.5\n",
    "b_tmp = 0.5\n",
    "lambda_tmp = 0.7\n",
    "cost_tmp = compute_cost_logistic_reg(X_tmp, y_tmp, w_tmp, b_tmp, lambda_tmp)\n",
    "\n",
    "print(\"Regularized cost:\", cost_tmp)"
   ]
  },
  {
   "cell_type": "code",
   "execution_count": 34,
   "id": "a01c496d",
   "metadata": {},
   "outputs": [],
   "source": [
    "def compute_gradient_linear_reg(X,y,w,b,lambda_):\n",
    "    m,n=X.shape\n",
    "    dj_dw=np.zeros(n)\n",
    "    dj_db=0\n",
    "    for i in range(m):\n",
    "        f_wb_i=np.dot(X[i],w)+b\n",
    "        err=f_wb_i-y[i]\n",
    "        for j in range(n):\n",
    "            dj_dw[j]+=err*X[i,j]\n",
    "        dj_db+=err\n",
    "    \n",
    "    dj_dw=dj_dw/m\n",
    "    dj_db=dj_db/m\n",
    "    \n",
    "    for j in range(n):\n",
    "        dj_dw[j]+=(lambda_/m)*w[j]\n",
    "        \n",
    "    return dj_dw,dj_db"
   ]
  },
  {
   "cell_type": "code",
   "execution_count": 36,
   "id": "71c161d0",
   "metadata": {},
   "outputs": [
    {
     "name": "stdout",
     "output_type": "stream",
     "text": [
      "dj_db: 0.6648774569425726\n",
      "Regularized dj_dw:\n",
      " [0.29653214748822276, 0.4911679625918033, 0.21645877535865857]\n"
     ]
    }
   ],
   "source": [
    "np.random.seed(1)\n",
    "X_tmp = np.random.rand(5,3)\n",
    "y_tmp = np.array([0,1,0,1,0])\n",
    "w_tmp = np.random.rand(X_tmp.shape[1])\n",
    "b_tmp = 0.5\n",
    "lambda_tmp = 0.7\n",
    "dj_dw_tmp, dj_db_tmp =  compute_gradient_linear_reg(X_tmp, y_tmp, w_tmp, b_tmp, lambda_tmp)\n",
    "\n",
    "print(f\"dj_db: {dj_db_tmp}\", )\n",
    "print(f\"Regularized dj_dw:\\n {dj_dw_tmp.tolist()}\", )"
   ]
  },
  {
   "cell_type": "code",
   "execution_count": 47,
   "id": "1acc00cb",
   "metadata": {},
   "outputs": [],
   "source": [
    "def compute_gradient_logistic_reg(X,y,w,b,lambda_):\n",
    "    m,n=X.shape\n",
    "    dj_dw=np.zeros(n)\n",
    "    dj_db=0\n",
    "    for i in range(m):\n",
    "        f_wb_i=sigmoid(np.dot(X[i],w)+b)\n",
    "        err_i=f_wb_i-y[i]\n",
    "        for j in range(n):\n",
    "            dj_dw[j]+=err_i*X[i,j]\n",
    "        dj_db+=err_i\n",
    "    dj_db=dj_db/m\n",
    "    dj_dw=dj_dw/m\n",
    "    for j in range(n):\n",
    "        dj_dw[j]+=(lambda_/m)*w[j]\n",
    "    \n",
    "    return dj_dw,dj_db"
   ]
  },
  {
   "cell_type": "code",
   "execution_count": 48,
   "id": "552e9607",
   "metadata": {},
   "outputs": [
    {
     "name": "stdout",
     "output_type": "stream",
     "text": [
      "dj_db: 0.341798994972791\n",
      "Regularized dj_dw:\n",
      " [0.17380012933994293, 0.32007507881566943, 0.10776313396851499]\n"
     ]
    }
   ],
   "source": [
    "np.random.seed(1)\n",
    "X_tmp = np.random.rand(5,3)\n",
    "y_tmp = np.array([0,1,0,1,0])\n",
    "w_tmp = np.random.rand(X_tmp.shape[1])\n",
    "b_tmp = 0.5\n",
    "lambda_tmp = 0.7\n",
    "dj_dw_tmp, dj_db_tmp =  compute_gradient_logistic_reg(X_tmp, y_tmp, w_tmp, b_tmp, lambda_tmp)\n",
    "\n",
    "print(f\"dj_db: {dj_db_tmp}\", )\n",
    "print(f\"Regularized dj_dw:\\n {dj_dw_tmp.tolist()}\", )"
   ]
  },
  {
   "cell_type": "code",
   "execution_count": 50,
   "id": "39c56020",
   "metadata": {},
   "outputs": [],
   "source": [
    "plt.close(\"all\")\n",
    "display(output)\n",
    "ofit = overfit_example(True)"
   ]
  },
  {
   "cell_type": "code",
   "execution_count": null,
   "id": "ecc7f975",
   "metadata": {},
   "outputs": [],
   "source": []
  }
 ],
 "metadata": {
  "kernelspec": {
   "display_name": "Python 3 (ipykernel)",
   "language": "python",
   "name": "python3"
  },
  "language_info": {
   "codemirror_mode": {
    "name": "ipython",
    "version": 3
   },
   "file_extension": ".py",
   "mimetype": "text/x-python",
   "name": "python",
   "nbconvert_exporter": "python",
   "pygments_lexer": "ipython3",
   "version": "3.11.4"
  }
 },
 "nbformat": 4,
 "nbformat_minor": 5
}
