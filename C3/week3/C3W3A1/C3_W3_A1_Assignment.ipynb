{
 "cells": [
  {
   "cell_type": "markdown",
   "metadata": {},
   "source": [
    "# Deep Q-Learning - Lunar Lander\n",
    "\n",
    "In this assignment, you will train an agent to land a lunar lander safely on a landing pad on the surface of the moon.\n",
    "\n",
    "\n",
    "# Outline\n",
    "- [ 1 - Import Packages <img align=\"Right\" src=\"./images/lunar_lander.gif\" width = 60% >](#1)\n",
    "- [ 2 - Hyperparameters](#2)\n",
    "- [ 3 - The Lunar Lander Environment](#3)\n",
    "  - [ 3.1 Action Space](#3.1)\n",
    "  - [ 3.2 Observation Space](#3.2)\n",
    "  - [ 3.3 Rewards](#3.3)\n",
    "  - [ 3.4 Episode Termination](#3.4)\n",
    "- [ 4 - Load the Environment](#4)\n",
    "- [ 5 - Interacting with the Gym Environment](#5)\n",
    "    - [ 5.1 Exploring the Environment's Dynamics](#5.1)\n",
    "- [ 6 - Deep Q-Learning](#6)\n",
    "  - [ 6.1 Target Network](#6.1)\n",
    "    - [ Exercise 1](#ex01)\n",
    "  - [ 6.2 Experience Replay](#6.2)\n",
    "- [ 7 - Deep Q-Learning Algorithm with Experience Replay](#7)\n",
    "  - [ Exercise 2](#ex02)\n",
    "- [ 8 - Update the Network Weights](#8)\n",
    "- [ 9 - Train the Agent](#9)\n",
    "- [ 10 - See the Trained Agent In Action](#10)\n",
    "- [ 11 - Congratulations!](#11)\n",
    "- [ 12 - References](#12)\n"
   ]
  },
  {
   "cell_type": "markdown",
   "metadata": {},
   "source": [
    "_**NOTE:** To prevent errors from the autograder, you are not allowed to edit or delete non-graded cells in this lab. Please also refrain from adding any new cells. \n",
    "**Once you have passed this assignment** and want to experiment with any of the non-graded code, you may follow the instructions at the bottom of this notebook._"
   ]
  },
  {
   "cell_type": "markdown",
   "metadata": {},
   "source": [
    "<a name=\"1\"></a>\n",
    "## 1 - Import Packages\n",
    "\n",
    "We'll make use of the following packages:\n",
    "- `numpy` is a package for scientific computing in python.\n",
    "- `deque` will be our data structure for our memory buffer.\n",
    "- `namedtuple` will be used to store the experience tuples.\n",
    "- The `gym` toolkit is a collection of environments that can be used to test reinforcement learning algorithms. We should note that in this notebook we are using `gym` version `0.24.0`.\n",
    "- `PIL.Image` and `pyvirtualdisplay` are needed to render the Lunar Lander environment.\n",
    "- We will use several modules from the `tensorflow.keras` framework for building deep learning models.\n",
    "- `utils` is a module that contains helper functions for this assignment. You do not need to modify the code in this file.\n",
    "\n",
    "Run the cell below to import all the necessary packages."
   ]
  },
  {
   "cell_type": "code",
   "execution_count": 3,
   "metadata": {
    "deletable": false,
    "editable": false,
    "id": "KYbOPKRtfQOr"
   },
   "outputs": [],
   "source": [
    "import time\n",
    "from collections import deque, namedtuple\n",
    "\n",
    "import gym\n",
    "import numpy as np\n",
    "import PIL.Image\n",
    "import tensorflow as tf\n",
    "import utils\n",
    "\n",
    "from pyvirtualdisplay import Display\n",
    "from tensorflow.keras import Sequential\n",
    "from tensorflow.keras.layers import Dense, Input\n",
    "from tensorflow.keras.losses import MSE\n",
    "from tensorflow.keras.optimizers import Adam"
   ]
  },
  {
   "cell_type": "code",
   "execution_count": 4,
   "metadata": {
    "deletable": false,
    "editable": false
   },
   "outputs": [],
   "source": [
    "# Set up a virtual display to render the Lunar Lander environment.\n",
    "Display(visible=0, size=(840, 480)).start();\n",
    "\n",
    "# Set the random seed for TensorFlow\n",
    "tf.random.set_seed(utils.SEED)"
   ]
  },
  {
   "cell_type": "markdown",
   "metadata": {},
   "source": [
    "<a name=\"2\"></a>\n",
    "## 2 - Hyperparameters\n",
    "\n",
    "Run the cell below to set the hyperparameters."
   ]
  },
  {
   "cell_type": "code",
   "execution_count": 5,
   "metadata": {
    "deletable": false,
    "editable": false
   },
   "outputs": [],
   "source": [
    "MEMORY_SIZE = 100_000     # size of memory buffer\n",
    "GAMMA = 0.995             # discount factor\n",
    "ALPHA = 1e-3              # learning rate  \n",
    "NUM_STEPS_FOR_UPDATE = 4  # perform a learning update every C time steps"
   ]
  },
  {
   "cell_type": "markdown",
   "metadata": {},
   "source": [
    "<a name=\"3\"></a>\n",
    "## 3 - The Lunar Lander Environment\n",
    "\n",
    "In this notebook we will be using [OpenAI's Gym Library](https://www.gymlibrary.dev/). The Gym library provides a wide variety of environments for reinforcement learning. To put it simply, an environment represents a problem or task to be solved. In this notebook, we will try to solve the Lunar Lander environment using reinforcement learning.\n",
    "\n",
    "The goal of the Lunar Lander environment is to land the lunar lander safely on the landing pad on the surface of the moon. The landing pad is designated by two flag poles and its center is at coordinates `(0,0)` but the lander is also allowed to land outside of the landing pad. The lander starts at the top center of the environment with a random initial force applied to its center of mass and has infinite fuel. The environment is considered solved if you get `200` points. \n",
    "\n",
    "<br>\n",
    "<br>\n",
    "<figure>\n",
    "  <img src = \"images/lunar_lander.gif\" width = 40%>\n",
    "      <figcaption style = \"text-align: center; font-style: italic\">Fig 1. Lunar Lander Environment.</figcaption>\n",
    "</figure>\n",
    "\n",
    "\n",
    "\n",
    "<a name=\"3.1\"></a>\n",
    "### 3.1 Action Space\n",
    "\n",
    "The agent has four discrete actions available:\n",
    "\n",
    "* Do nothing.\n",
    "* Fire right engine.\n",
    "* Fire main engine.\n",
    "* Fire left engine.\n",
    "\n",
    "Each action has a corresponding numerical value:\n",
    "\n",
    "```python\n",
    "Do nothing = 0\n",
    "Fire right engine = 1\n",
    "Fire main engine = 2\n",
    "Fire left engine = 3\n",
    "```\n",
    "\n",
    "<a name=\"3.2\"></a>\n",
    "### 3.2 Observation Space\n",
    "\n",
    "The agent's observation space consists of a state vector with 8 variables:\n",
    "\n",
    "* Its $(x,y)$ coordinates. The landing pad is always at coordinates $(0,0)$.\n",
    "* Its linear velocities $(\\dot x,\\dot y)$.\n",
    "* Its angle $\\theta$.\n",
    "* Its angular velocity $\\dot \\theta$.\n",
    "* Two booleans, $l$ and $r$, that represent whether each leg is in contact with the ground or not.\n",
    "\n",
    "<a name=\"3.3\"></a>\n",
    "### 3.3 Rewards\n",
    "\n",
    "After every step, a reward is granted. The total reward of an episode is the sum of the rewards for all the steps within that episode.\n",
    "\n",
    "For each step, the reward:\n",
    "- is increased/decreased the closer/further the lander is to the landing pad.\n",
    "- is increased/decreased the slower/faster the lander is moving.\n",
    "- is decreased the more the lander is tilted (angle not horizontal).\n",
    "- is increased by 10 points for each leg that is in contact with the ground.\n",
    "- is decreased by 0.03 points each frame a side engine is firing.\n",
    "- is decreased by 0.3 points each frame the main engine is firing.\n",
    "\n",
    "The episode receives an additional reward of -100 or +100 points for crashing or landing safely respectively.\n",
    "\n",
    "<a name=\"3.4\"></a>\n",
    "### 3.4 Episode Termination\n",
    "\n",
    "An episode ends (i.e the environment enters a terminal state) if:\n",
    "\n",
    "* The lunar lander crashes (i.e if the body of the lunar lander comes in contact with the surface of the moon).\n",
    "\n",
    "* The absolute value of the lander's $x$-coordinate is greater than 1 (i.e. it goes beyond the left or right border)\n",
    "\n",
    "You can check out the [Open AI Gym documentation](https://www.gymlibrary.dev/environments/box2d/lunar_lander/) for a full description of the environment. "
   ]
  },
  {
   "cell_type": "markdown",
   "metadata": {},
   "source": [
    "<a name=\"4\"></a>\n",
    "## 4 - Load the Environment\n",
    "\n",
    "We start by loading the `LunarLander-v2` environment from the `gym` library by using the `.make()` method. `LunarLander-v2` is the latest version of the Lunar Lander environment and you can read about its version history in the [Open AI Gym documentation](https://www.gymlibrary.dev/environments/box2d/lunar_lander/#version-history)."
   ]
  },
  {
   "cell_type": "code",
   "execution_count": 6,
   "metadata": {
    "deletable": false,
    "editable": false,
    "id": "ILVMYKewfR0n"
   },
   "outputs": [],
   "source": [
    "env = gym.make('LunarLander-v2')"
   ]
  },
  {
   "cell_type": "markdown",
   "metadata": {},
   "source": [
    "Once we load the environment we use the `.reset()` method to reset the environment to the initial state. The lander starts at the top center of the environment and we can render the first frame of the environment by using the `.render()` method."
   ]
  },
  {
   "cell_type": "code",
   "execution_count": 7,
   "metadata": {
    "deletable": false,
    "editable": false
   },
   "outputs": [
    {
     "data": {
      "image/png": "[encoded data removed]",
      "text/plain": [
       "<PIL.Image.Image image mode=RGB size=600x400 at 0x7565B780B950>"
      ]
     },
     "execution_count": 7,
     "metadata": {},
     "output_type": "execute_result"
    }
   ],
   "source": [
    "env.reset()\n",
    "PIL.Image.fromarray(env.render(mode='rgb_array'))"
   ]
  },
  {
   "cell_type": "markdown",
   "metadata": {},
   "source": [
    "In order to build our neural network later on we need to know the size of the state vector and the number of valid actions. We can get this information from our environment by using the `.observation_space.shape` and `action_space.n` methods, respectively."
   ]
  },
  {
   "cell_type": "code",
   "execution_count": 8,
   "metadata": {
    "deletable": false,
    "editable": false,
    "id": "x3fdqdG4CUu2"
   },
   "outputs": [
    {
     "name": "stdout",
     "output_type": "stream",
     "text": [
      "State Shape: (8,)\n",
      "Number of actions: 4\n"
     ]
    }
   ],
   "source": [
    "state_size = env.observation_space.shape\n",
    "num_actions = env.action_space.n\n",
    "\n",
    "print('State Shape:', state_size)\n",
    "print('Number of actions:', num_actions)"
   ]
  },
  {
   "cell_type": "markdown",
   "metadata": {},
   "source": [
    "<a name=\"5\"></a>\n",
    "## 5 - Interacting with the Gym Environment\n",
    "\n",
    "The Gym library implements the standard “agent-environment loop” formalism:\n",
    "\n",
    "<br>\n",
    "<center>\n",
    "<video src = \"./videos/rl_formalism.m4v\" width=\"840\" height=\"480\" controls autoplay loop poster=\"./images/rl_formalism.png\"> </video>\n",
    "<figcaption style = \"text-align:center; font-style:italic\">Fig 2. Agent-environment Loop Formalism.</figcaption>\n",
    "</center>\n",
    "<br>\n",
    "\n",
    "In the standard “agent-environment loop” formalism, an agent interacts with the environment in discrete time steps $t=0,1,2,...$. At each time step $t$, the agent uses a policy $\\pi$ to select an action $A_t$ based on its observation of the environment's state $S_t$. The agent receives a numerical reward $R_t$ and on the next time step, moves to a new state $S_{t+1}$.\n",
    "\n",
    "<a name=\"5.1\"></a>\n",
    "### 5.1 Exploring the Environment's Dynamics\n",
    "\n",
    "In Open AI's Gym environments, we use the `.step()` method to run a single time step of the environment's dynamics. In the version of `gym` that we are using the `.step()` method accepts an action and returns four values:\n",
    "\n",
    "* `observation` (**object**): an environment-specific object representing your observation of the environment. In the Lunar Lander environment this corresponds to a numpy array containing the positions and velocities of the lander as described in section [3.2 Observation Space](#3.2).\n",
    "\n",
    "\n",
    "* `reward` (**float**): amount of reward returned as a result of taking the given action. In the Lunar Lander environment this corresponds to a float of type `numpy.float64` as described in section [3.3 Rewards](#3.3).\n",
    "\n",
    "\n",
    "* `done` (**boolean**): When done is `True`, it indicates the episode has terminated and it’s time to reset the environment. \n",
    "\n",
    "\n",
    "* `info` (**dictionary**): diagnostic information useful for debugging. We won't be using this variable in this notebook but it is shown here for completeness.\n",
    "\n",
    "To begin an episode, we need to reset the environment to an initial state. We do this by using the `.reset()` method. "
   ]
  },
  {
   "cell_type": "code",
   "execution_count": 9,
   "metadata": {
    "deletable": false,
    "editable": false
   },
   "outputs": [],
   "source": [
    "# Reset the environment and get the initial state.\n",
    "current_state = env.reset()"
   ]
  },
  {
   "cell_type": "markdown",
   "metadata": {},
   "source": [
    "Once the environment is reset, the agent can start taking actions in the environment by using the `.step()` method. Note that the agent can only take one action per time step. \n",
    "\n",
    "In the cell below you can select different actions and see how the returned values change depending on the action taken. Remember that in this environment the agent has four discrete actions available and we specify them in code by using their corresponding numerical value:\n",
    "\n",
    "```python\n",
    "Do nothing = 0\n",
    "Fire right engine = 1\n",
    "Fire main engine = 2\n",
    "Fire left engine = 3\n",
    "```"
   ]
  },
  {
   "cell_type": "code",
   "execution_count": 10,
   "metadata": {
    "deletable": false
   },
   "outputs": [
    {
     "data": {
      "text/html": [
       "<style  type=\"text/css\" >\n",
       "    #T_9824f83e_647a_11ef_b78e_0242ac12004b th {\n",
       "          border: 1px solid grey;\n",
       "          text-align: center;\n",
       "    }    #T_9824f83e_647a_11ef_b78e_0242ac12004b tbody td {\n",
       "          border: 1px solid grey;\n",
       "          text-align: center;\n",
       "    }    #T_9824f83e_647a_11ef_b78e_0242ac12004brow0_col0 {\n",
       "            background-color :  grey;\n",
       "        }    #T_9824f83e_647a_11ef_b78e_0242ac12004brow1_col1 {\n",
       "            background-color :  grey;\n",
       "        }    #T_9824f83e_647a_11ef_b78e_0242ac12004brow1_col2 {\n",
       "            background-color :  grey;\n",
       "        }    #T_9824f83e_647a_11ef_b78e_0242ac12004brow1_col3 {\n",
       "            background-color :  grey;\n",
       "        }    #T_9824f83e_647a_11ef_b78e_0242ac12004brow1_col4 {\n",
       "            background-color :  grey;\n",
       "        }    #T_9824f83e_647a_11ef_b78e_0242ac12004brow1_col5 {\n",
       "            background-color :  grey;\n",
       "        }    #T_9824f83e_647a_11ef_b78e_0242ac12004brow1_col6 {\n",
       "            background-color :  grey;\n",
       "        }    #T_9824f83e_647a_11ef_b78e_0242ac12004brow1_col7 {\n",
       "            background-color :  grey;\n",
       "        }    #T_9824f83e_647a_11ef_b78e_0242ac12004brow1_col8 {\n",
       "            background-color :  grey;\n",
       "        }    #T_9824f83e_647a_11ef_b78e_0242ac12004brow1_col9 {\n",
       "            background-color :  grey;\n",
       "        }    #T_9824f83e_647a_11ef_b78e_0242ac12004brow1_col10 {\n",
       "            background-color :  grey;\n",
       "        }    #T_9824f83e_647a_11ef_b78e_0242ac12004brow1_col11 {\n",
       "            background-color :  grey;\n",
       "        }    #T_9824f83e_647a_11ef_b78e_0242ac12004brow2_col0 {\n",
       "            background-color :  grey;\n",
       "        }    #T_9824f83e_647a_11ef_b78e_0242ac12004brow3_col1 {\n",
       "            background-color :  grey;\n",
       "        }    #T_9824f83e_647a_11ef_b78e_0242ac12004brow3_col2 {\n",
       "            background-color :  grey;\n",
       "        }    #T_9824f83e_647a_11ef_b78e_0242ac12004brow3_col3 {\n",
       "            background-color :  grey;\n",
       "        }    #T_9824f83e_647a_11ef_b78e_0242ac12004brow3_col4 {\n",
       "            background-color :  grey;\n",
       "        }    #T_9824f83e_647a_11ef_b78e_0242ac12004brow3_col5 {\n",
       "            background-color :  grey;\n",
       "        }    #T_9824f83e_647a_11ef_b78e_0242ac12004brow3_col6 {\n",
       "            background-color :  grey;\n",
       "        }    #T_9824f83e_647a_11ef_b78e_0242ac12004brow3_col7 {\n",
       "            background-color :  grey;\n",
       "        }    #T_9824f83e_647a_11ef_b78e_0242ac12004brow3_col8 {\n",
       "            background-color :  grey;\n",
       "        }    #T_9824f83e_647a_11ef_b78e_0242ac12004brow3_col9 {\n",
       "            background-color :  grey;\n",
       "        }    #T_9824f83e_647a_11ef_b78e_0242ac12004brow3_col10 {\n",
       "            background-color :  grey;\n",
       "        }    #T_9824f83e_647a_11ef_b78e_0242ac12004brow3_col11 {\n",
       "            background-color :  grey;\n",
       "        }    #T_9824f83e_647a_11ef_b78e_0242ac12004brow4_col1 {\n",
       "            background-color :  grey;\n",
       "        }    #T_9824f83e_647a_11ef_b78e_0242ac12004brow4_col2 {\n",
       "            background-color :  grey;\n",
       "        }    #T_9824f83e_647a_11ef_b78e_0242ac12004brow4_col3 {\n",
       "            background-color :  grey;\n",
       "        }    #T_9824f83e_647a_11ef_b78e_0242ac12004brow4_col4 {\n",
       "            background-color :  grey;\n",
       "        }    #T_9824f83e_647a_11ef_b78e_0242ac12004brow4_col5 {\n",
       "            background-color :  grey;\n",
       "        }    #T_9824f83e_647a_11ef_b78e_0242ac12004brow4_col6 {\n",
       "            background-color :  grey;\n",
       "        }    #T_9824f83e_647a_11ef_b78e_0242ac12004brow4_col7 {\n",
       "            background-color :  grey;\n",
       "        }    #T_9824f83e_647a_11ef_b78e_0242ac12004brow4_col8 {\n",
       "            background-color :  grey;\n",
       "        }    #T_9824f83e_647a_11ef_b78e_0242ac12004brow4_col9 {\n",
       "            background-color :  grey;\n",
       "        }    #T_9824f83e_647a_11ef_b78e_0242ac12004brow4_col10 {\n",
       "            background-color :  grey;\n",
       "        }    #T_9824f83e_647a_11ef_b78e_0242ac12004brow4_col11 {\n",
       "            background-color :  grey;\n",
       "        }</style><table id=\"T_9824f83e_647a_11ef_b78e_0242ac12004b\" ><thead>    <tr>        <th class=\"blank level0\" ></th>        <th class=\"col_heading level0 col0\" ></th>        <th class=\"col_heading level0 col1\" colspan=8>State Vector</th>        <th class=\"col_heading level0 col9\" colspan=3>Derived from the State Vector (the closer to zero, the better)</th>    </tr>    <tr>        <th class=\"blank level1\" ></th>        <th class=\"col_heading level1 col0\" ></th>        <th class=\"col_heading level1 col1\" colspan=2>Coordinate</th>        <th class=\"col_heading level1 col3\" colspan=2>Velocity</th>        <th class=\"col_heading level1 col5\" colspan=2>Tilting</th>        <th class=\"col_heading level1 col7\" colspan=2>Ground contact</th>        <th class=\"col_heading level1 col9\" >Distance from landing pad</th>        <th class=\"col_heading level1 col10\" >Velocity</th>        <th class=\"col_heading level1 col11\" >Tilting Angle (absolute value)</th>    </tr>    <tr>        <th class=\"blank level2\" ></th>        <th class=\"col_heading level2 col0\" ></th>        <th class=\"col_heading level2 col1\" >X (Horizontal)</th>        <th class=\"col_heading level2 col2\" >Y (Vertical)</th>        <th class=\"col_heading level2 col3\" >X (Horizontal)</th>        <th class=\"col_heading level2 col4\" >Y (Vertical)</th>        <th class=\"col_heading level2 col5\" >Angle</th>        <th class=\"col_heading level2 col6\" >Angular Velocity</th>        <th class=\"col_heading level2 col7\" >Left Leg?</th>        <th class=\"col_heading level2 col8\" >Right Leg?</th>        <th class=\"col_heading level2 col9\" ></th>        <th class=\"col_heading level2 col10\" ></th>        <th class=\"col_heading level2 col11\" ></th>    </tr></thead><tbody>\n",
       "                <tr>\n",
       "                        <th id=\"T_9824f83e_647a_11ef_b78e_0242ac12004blevel0_row0\" class=\"row_heading level0 row0\" >Current State</th>\n",
       "                        <td id=\"T_9824f83e_647a_11ef_b78e_0242ac12004brow0_col0\" class=\"data row0 col0\" ></td>\n",
       "                        <td id=\"T_9824f83e_647a_11ef_b78e_0242ac12004brow0_col1\" class=\"data row0 col1\" >0.001919</td>\n",
       "                        <td id=\"T_9824f83e_647a_11ef_b78e_0242ac12004brow0_col2\" class=\"data row0 col2\" >1.422301</td>\n",
       "                        <td id=\"T_9824f83e_647a_11ef_b78e_0242ac12004brow0_col3\" class=\"data row0 col3\" >0.194400</td>\n",
       "                        <td id=\"T_9824f83e_647a_11ef_b78e_0242ac12004brow0_col4\" class=\"data row0 col4\" >0.505814</td>\n",
       "                        <td id=\"T_9824f83e_647a_11ef_b78e_0242ac12004brow0_col5\" class=\"data row0 col5\" >-0.002217</td>\n",
       "                        <td id=\"T_9824f83e_647a_11ef_b78e_0242ac12004brow0_col6\" class=\"data row0 col6\" >-0.044034</td>\n",
       "                        <td id=\"T_9824f83e_647a_11ef_b78e_0242ac12004brow0_col7\" class=\"data row0 col7\" >False</td>\n",
       "                        <td id=\"T_9824f83e_647a_11ef_b78e_0242ac12004brow0_col8\" class=\"data row0 col8\" >False</td>\n",
       "                        <td id=\"T_9824f83e_647a_11ef_b78e_0242ac12004brow0_col9\" class=\"data row0 col9\" >1.422302</td>\n",
       "                        <td id=\"T_9824f83e_647a_11ef_b78e_0242ac12004brow0_col10\" class=\"data row0 col10\" >0.541885</td>\n",
       "                        <td id=\"T_9824f83e_647a_11ef_b78e_0242ac12004brow0_col11\" class=\"data row0 col11\" >0.002217</td>\n",
       "            </tr>\n",
       "            <tr>\n",
       "                        <th id=\"T_9824f83e_647a_11ef_b78e_0242ac12004blevel0_row1\" class=\"row_heading level0 row1\" >Action</th>\n",
       "                        <td id=\"T_9824f83e_647a_11ef_b78e_0242ac12004brow1_col0\" class=\"data row1 col0\" >Fire left engine</td>\n",
       "                        <td id=\"T_9824f83e_647a_11ef_b78e_0242ac12004brow1_col1\" class=\"data row1 col1\" ></td>\n",
       "                        <td id=\"T_9824f83e_647a_11ef_b78e_0242ac12004brow1_col2\" class=\"data row1 col2\" ></td>\n",
       "                        <td id=\"T_9824f83e_647a_11ef_b78e_0242ac12004brow1_col3\" class=\"data row1 col3\" ></td>\n",
       "                        <td id=\"T_9824f83e_647a_11ef_b78e_0242ac12004brow1_col4\" class=\"data row1 col4\" ></td>\n",
       "                        <td id=\"T_9824f83e_647a_11ef_b78e_0242ac12004brow1_col5\" class=\"data row1 col5\" ></td>\n",
       "                        <td id=\"T_9824f83e_647a_11ef_b78e_0242ac12004brow1_col6\" class=\"data row1 col6\" ></td>\n",
       "                        <td id=\"T_9824f83e_647a_11ef_b78e_0242ac12004brow1_col7\" class=\"data row1 col7\" ></td>\n",
       "                        <td id=\"T_9824f83e_647a_11ef_b78e_0242ac12004brow1_col8\" class=\"data row1 col8\" ></td>\n",
       "                        <td id=\"T_9824f83e_647a_11ef_b78e_0242ac12004brow1_col9\" class=\"data row1 col9\" ></td>\n",
       "                        <td id=\"T_9824f83e_647a_11ef_b78e_0242ac12004brow1_col10\" class=\"data row1 col10\" ></td>\n",
       "                        <td id=\"T_9824f83e_647a_11ef_b78e_0242ac12004brow1_col11\" class=\"data row1 col11\" ></td>\n",
       "            </tr>\n",
       "            <tr>\n",
       "                        <th id=\"T_9824f83e_647a_11ef_b78e_0242ac12004blevel0_row2\" class=\"row_heading level0 row2\" >Next State</th>\n",
       "                        <td id=\"T_9824f83e_647a_11ef_b78e_0242ac12004brow2_col0\" class=\"data row2 col0\" ></td>\n",
       "                        <td id=\"T_9824f83e_647a_11ef_b78e_0242ac12004brow2_col1\" class=\"data row2 col1\" >0.003917</td>\n",
       "                        <td id=\"T_9824f83e_647a_11ef_b78e_0242ac12004brow2_col2\" class=\"data row2 col2\" >1.433109</td>\n",
       "                        <td id=\"T_9824f83e_647a_11ef_b78e_0242ac12004brow2_col3\" class=\"data row2 col3\" >0.203983</td>\n",
       "                        <td id=\"T_9824f83e_647a_11ef_b78e_0242ac12004brow2_col4\" class=\"data row2 col4\" >0.480356</td>\n",
       "                        <td id=\"T_9824f83e_647a_11ef_b78e_0242ac12004brow2_col5\" class=\"data row2 col5\" >-0.006368</td>\n",
       "                        <td id=\"T_9824f83e_647a_11ef_b78e_0242ac12004brow2_col6\" class=\"data row2 col6\" >-0.083012</td>\n",
       "                        <td id=\"T_9824f83e_647a_11ef_b78e_0242ac12004brow2_col7\" class=\"data row2 col7\" >False</td>\n",
       "                        <td id=\"T_9824f83e_647a_11ef_b78e_0242ac12004brow2_col8\" class=\"data row2 col8\" >False</td>\n",
       "                        <td id=\"T_9824f83e_647a_11ef_b78e_0242ac12004brow2_col9\" class=\"data row2 col9\" >1.433115</td>\n",
       "                        <td id=\"T_9824f83e_647a_11ef_b78e_0242ac12004brow2_col10\" class=\"data row2 col10\" >0.521873</td>\n",
       "                        <td id=\"T_9824f83e_647a_11ef_b78e_0242ac12004brow2_col11\" class=\"data row2 col11\" >0.006368</td>\n",
       "            </tr>\n",
       "            <tr>\n",
       "                        <th id=\"T_9824f83e_647a_11ef_b78e_0242ac12004blevel0_row3\" class=\"row_heading level0 row3\" >Reward</th>\n",
       "                        <td id=\"T_9824f83e_647a_11ef_b78e_0242ac12004brow3_col0\" class=\"data row3 col0\" >0.474980</td>\n",
       "                        <td id=\"T_9824f83e_647a_11ef_b78e_0242ac12004brow3_col1\" class=\"data row3 col1\" ></td>\n",
       "                        <td id=\"T_9824f83e_647a_11ef_b78e_0242ac12004brow3_col2\" class=\"data row3 col2\" ></td>\n",
       "                        <td id=\"T_9824f83e_647a_11ef_b78e_0242ac12004brow3_col3\" class=\"data row3 col3\" ></td>\n",
       "                        <td id=\"T_9824f83e_647a_11ef_b78e_0242ac12004brow3_col4\" class=\"data row3 col4\" ></td>\n",
       "                        <td id=\"T_9824f83e_647a_11ef_b78e_0242ac12004brow3_col5\" class=\"data row3 col5\" ></td>\n",
       "                        <td id=\"T_9824f83e_647a_11ef_b78e_0242ac12004brow3_col6\" class=\"data row3 col6\" ></td>\n",
       "                        <td id=\"T_9824f83e_647a_11ef_b78e_0242ac12004brow3_col7\" class=\"data row3 col7\" ></td>\n",
       "                        <td id=\"T_9824f83e_647a_11ef_b78e_0242ac12004brow3_col8\" class=\"data row3 col8\" ></td>\n",
       "                        <td id=\"T_9824f83e_647a_11ef_b78e_0242ac12004brow3_col9\" class=\"data row3 col9\" ></td>\n",
       "                        <td id=\"T_9824f83e_647a_11ef_b78e_0242ac12004brow3_col10\" class=\"data row3 col10\" ></td>\n",
       "                        <td id=\"T_9824f83e_647a_11ef_b78e_0242ac12004brow3_col11\" class=\"data row3 col11\" ></td>\n",
       "            </tr>\n",
       "            <tr>\n",
       "                        <th id=\"T_9824f83e_647a_11ef_b78e_0242ac12004blevel0_row4\" class=\"row_heading level0 row4\" >Episode Terminated</th>\n",
       "                        <td id=\"T_9824f83e_647a_11ef_b78e_0242ac12004brow4_col0\" class=\"data row4 col0\" >False</td>\n",
       "                        <td id=\"T_9824f83e_647a_11ef_b78e_0242ac12004brow4_col1\" class=\"data row4 col1\" ></td>\n",
       "                        <td id=\"T_9824f83e_647a_11ef_b78e_0242ac12004brow4_col2\" class=\"data row4 col2\" ></td>\n",
       "                        <td id=\"T_9824f83e_647a_11ef_b78e_0242ac12004brow4_col3\" class=\"data row4 col3\" ></td>\n",
       "                        <td id=\"T_9824f83e_647a_11ef_b78e_0242ac12004brow4_col4\" class=\"data row4 col4\" ></td>\n",
       "                        <td id=\"T_9824f83e_647a_11ef_b78e_0242ac12004brow4_col5\" class=\"data row4 col5\" ></td>\n",
       "                        <td id=\"T_9824f83e_647a_11ef_b78e_0242ac12004brow4_col6\" class=\"data row4 col6\" ></td>\n",
       "                        <td id=\"T_9824f83e_647a_11ef_b78e_0242ac12004brow4_col7\" class=\"data row4 col7\" ></td>\n",
       "                        <td id=\"T_9824f83e_647a_11ef_b78e_0242ac12004brow4_col8\" class=\"data row4 col8\" ></td>\n",
       "                        <td id=\"T_9824f83e_647a_11ef_b78e_0242ac12004brow4_col9\" class=\"data row4 col9\" ></td>\n",
       "                        <td id=\"T_9824f83e_647a_11ef_b78e_0242ac12004brow4_col10\" class=\"data row4 col10\" ></td>\n",
       "                        <td id=\"T_9824f83e_647a_11ef_b78e_0242ac12004brow4_col11\" class=\"data row4 col11\" ></td>\n",
       "            </tr>\n",
       "    </tbody></table>"
      ],
      "text/plain": [
       "<pandas.io.formats.style.Styler at 0x75656fcfaed0>"
      ]
     },
     "metadata": {},
     "output_type": "display_data"
    }
   ],
   "source": [
    "# Select an action\n",
    "action = 3\n",
    "\n",
    "# Run a single time step of the environment's dynamics with the given action.\n",
    "next_state, reward, done, _ = env.step(action)\n",
    "\n",
    "# Display table with values.\n",
    "utils.display_table(current_state, action, next_state, reward, done)\n",
    "\n",
    "# Replace the `current_state` with the state after the action is taken\n",
    "current_state = next_state"
   ]
  },
  {
   "cell_type": "markdown",
   "metadata": {},
   "source": [
    "In practice, when we train the agent we use a loop to allow the agent to take many consecutive actions during an episode."
   ]
  },
  {
   "cell_type": "markdown",
   "metadata": {},
   "source": [
    "<a name=\"6\"></a>\n",
    "## 6 - Deep Q-Learning\n",
    "\n",
    "In cases where both the state and action space are discrete we can estimate the action-value function iteratively by using the Bellman equation:\n",
    "\n",
    "$$\n",
    "Q_{i+1}(s,a) = R + \\gamma \\max_{a'}Q_i(s',a')\n",
    "$$\n",
    "\n",
    "This iterative method converges to the optimal action-value function $Q^*(s,a)$ as $i\\to\\infty$. This means that the agent just needs to gradually explore the state-action space and keep updating the estimate of $Q(s,a)$ until it converges to the optimal action-value function $Q^*(s,a)$. However, in cases where the state space is continuous it becomes practically impossible to explore the entire state-action space. Consequently, this also makes it practically impossible to gradually estimate $Q(s,a)$ until it converges to $Q^*(s,a)$.\n",
    "\n",
    "In the Deep $Q$-Learning, we solve this problem by using a neural network to estimate the action-value function $Q(s,a)\\approx Q^*(s,a)$. We call this neural network a $Q$-Network and it can be trained by adjusting its weights at each iteration to minimize the mean-squared error in the Bellman equation.\n",
    "\n",
    "Unfortunately, using neural networks in reinforcement learning to estimate action-value functions has proven to be highly unstable. Luckily, there's a couple of techniques that can be employed to avoid instabilities. These techniques consist of using a ***Target Network*** and ***Experience Replay***. We will explore these two techniques in the following sections."
   ]
  },
  {
   "cell_type": "markdown",
   "metadata": {},
   "source": [
    "<a name=\"6.1\"></a>\n",
    "### 6.1 Target Network\n",
    "\n",
    "We can train the $Q$-Network by adjusting it's weights at each iteration to minimize the mean-squared error in the Bellman equation, where the target values are given by:\n",
    "\n",
    "$$\n",
    "y = R + \\gamma \\max_{a'}Q(s',a';w)\n",
    "$$\n",
    "\n",
    "where $w$ are the weights of the $Q$-Network. This means that we are adjusting the weights $w$ at each iteration to minimize the following error:\n",
    "\n",
    "$$\n",
    "\\overbrace{\\underbrace{R + \\gamma \\max_{a'}Q(s',a'; w)}_{\\rm {y~target}} - Q(s,a;w)}^{\\rm {Error}}\n",
    "$$\n",
    "\n",
    "Notice that this forms a problem because the $y$ target is changing on every iteration. Having a constantly moving target can lead to oscillations and instabilities. To avoid this, we can create\n",
    "a separate neural network for generating the $y$ targets. We call this separate neural network the **target $\\hat Q$-Network** and it will have the same architecture as the original $Q$-Network. By using the target $\\hat Q$-Network, the above error becomes:\n",
    "\n",
    "$$\n",
    "\\overbrace{\\underbrace{R + \\gamma \\max_{a'}\\hat{Q}(s',a'; w^-)}_{\\rm {y~target}} - Q(s,a;w)}^{\\rm {Error}}\n",
    "$$\n",
    "\n",
    "where $w^-$ and $w$ are the weights of the target $\\hat Q$-Network and $Q$-Network, respectively.\n",
    "\n",
    "In practice, we will use the following algorithm: every $C$ time steps we will use the $\\hat Q$-Network to generate the $y$ targets and update the weights of the target $\\hat Q$-Network using the weights of the $Q$-Network. We will update the weights $w^-$ of the the target $\\hat Q$-Network using a **soft update**. This means that we will update the weights $w^-$ using the following rule:\n",
    " \n",
    "$$\n",
    "w^-\\leftarrow \\tau w + (1 - \\tau) w^-\n",
    "$$\n",
    "\n",
    "where $\\tau\\ll 1$. By using the soft update, we are ensuring that the target values, $y$, change slowly, which greatly improves the stability of our learning algorithm."
   ]
  },
  {
   "cell_type": "markdown",
   "metadata": {},
   "source": [
    "<a name=\"ex01\"></a>\n",
    "### Exercise 1\n",
    "\n",
    "In this exercise you will create the $Q$ and target $\\hat Q$ networks and set the optimizer. Remember that the Deep $Q$-Network (DQN) is a neural network that approximates the action-value function $Q(s,a)\\approx Q^*(s,a)$. It does this by learning how to map states to $Q$ values.\n",
    "\n",
    "To solve the Lunar Lander environment, we are going to employ a DQN with the following architecture:\n",
    "\n",
    "* An `Input` layer that takes `state_size` as input.\n",
    "\n",
    "* A `Dense` layer with `64` units and a `relu` activation function.\n",
    "\n",
    "* A `Dense` layer with `64` units and a `relu` activation function.\n",
    "\n",
    "* A `Dense` layer with `num_actions` units and a `linear` activation function. This will be the output layer of our network.\n",
    "\n",
    "\n",
    "In the cell below you should create the $Q$-Network and the target $\\hat Q$-Network using the model architecture described above. Remember that both the $Q$-Network and the target $\\hat Q$-Network have the same architecture.\n",
    "\n",
    "Lastly, you should set `Adam` as the optimizer with a learning rate equal to `ALPHA`. Recall that `ALPHA` was defined in the [Hyperparameters](#2) section. We should note that for this exercise you should use the already imported packages:\n",
    "```python\n",
    "from tensorflow.keras.layers import Dense, Input\n",
    "from tensorflow.keras.optimizers import Adam\n",
    "```"
   ]
  },
  {
   "cell_type": "code",
   "execution_count": 11,
   "metadata": {
    "deletable": false
   },
   "outputs": [],
   "source": [
    "# UNQ_C1\n",
    "# GRADED CELL\n",
    "\n",
    "# Create the Q-Network\n",
    "q_network = Sequential([\n",
    "    ### START CODE HERE ### \n",
    "    Input(shape=state_size),\n",
    "    Dense(units=64,activation='relu'),\n",
    "    Dense(units=64,activation='relu'),\n",
    "    Dense(units=num_actions,activation='linear')\n",
    "    ### END CODE HERE ### \n",
    "    ])\n",
    "\n",
    "# Create the target Q^-Network\n",
    "target_q_network = Sequential([\n",
    "    ### START CODE HERE ### \n",
    "    Input(shape=state_size),\n",
    "    Dense(units=64,activation='relu'),\n",
    "    Dense(units=64,activation='relu'),\n",
    "    Dense(units=num_actions,activation='linear')    \n",
    "    ### END CODE HERE ###\n",
    "    ])\n",
    "\n",
    "### START CODE HERE ### \n",
    "optimizer = Adam(learning_rate=ALPHA)\n",
    "### END CODE HERE ###"
   ]
  },
  {
   "cell_type": "code",
   "execution_count": 12,
   "metadata": {
    "deletable": false,
    "editable": false
   },
   "outputs": [
    {
     "name": "stdout",
     "output_type": "stream",
     "text": [
      "\u001b[92mAll tests passed!\n",
      "\u001b[92mAll tests passed!\n",
      "\u001b[92mAll tests passed!\n"
     ]
    }
   ],
   "source": [
    "# UNIT TEST\n",
    "from public_tests import *\n",
    "\n",
    "test_network(q_network)\n",
    "test_network(target_q_network)\n",
    "test_optimizer(optimizer, ALPHA) "
   ]
  },
  {
   "cell_type": "markdown",
   "metadata": {},
   "source": [
    "<details>\n",
    "  <summary><font size=\"3\" color=\"darkgreen\"><b>Click for hints</b></font></summary>\n",
    "    \n",
    "```python\n",
    "# Create the Q-Network\n",
    "q_network = Sequential([\n",
    "    Input(shape=state_size),                      \n",
    "    Dense(units=64, activation='relu'),            \n",
    "    Dense(units=64, activation='relu'),            \n",
    "    Dense(units=num_actions, activation='linear'),\n",
    "    ])\n",
    "\n",
    "# Create the target Q^-Network\n",
    "target_q_network = Sequential([\n",
    "    Input(shape=state_size),                       \n",
    "    Dense(units=64, activation='relu'),            \n",
    "    Dense(units=64, activation='relu'),            \n",
    "    Dense(units=num_actions, activation='linear'), \n",
    "    ])\n",
    "\n",
    "optimizer = Adam(learning_rate=ALPHA)                                  \n",
    "``` "
   ]
  },
  {
   "cell_type": "markdown",
   "metadata": {},
   "source": [
    "<a name=\"6.2\"></a>\n",
    "### 6.2 Experience Replay\n",
    "\n",
    "When an agent interacts with the environment, the states, actions, and rewards the agent experiences are sequential by nature. If the agent tries to learn from these consecutive experiences it can run into problems due to the strong correlations between them. To avoid this, we employ a technique known as **Experience Replay** to generate uncorrelated experiences for training our agent. Experience replay consists of storing the agent's experiences (i.e the states, actions, and rewards the agent receives) in a memory buffer and then sampling a random mini-batch of experiences from the buffer to do the learning. The experience tuples $(S_t, A_t, R_t, S_{t+1})$ will be added to the memory buffer at each time step as the agent interacts with the environment.\n",
    "\n",
    "For convenience, we will store the experiences as named tuples."
   ]
  },
  {
   "cell_type": "code",
   "execution_count": 13,
   "metadata": {
    "deletable": false,
    "editable": false
   },
   "outputs": [],
   "source": [
    "# Store experiences as named tuples\n",
    "experience = namedtuple(\"Experience\", field_names=[\"state\", \"action\", \"reward\", \"next_state\", \"done\"])"
   ]
  },
  {
   "cell_type": "markdown",
   "metadata": {},
   "source": [
    "By using experience replay we avoid problematic correlations, oscillations and instabilities. In addition, experience replay also allows the agent to potentially use the same experience in multiple weight updates, which increases data efficiency."
   ]
  },
  {
   "cell_type": "markdown",
   "metadata": {},
   "source": [
    "<a name=\"7\"></a>\n",
    "## 7 - Deep Q-Learning Algorithm with Experience Replay\n",
    "\n",
    "Now that we know all the techniques that we are going to use, we can put them together to arrive at the Deep Q-Learning Algorithm With Experience Replay.\n",
    "<br>\n",
    "<br>\n",
    "<figure>\n",
    "  <img src = \"images/deep_q_algorithm.png\" width = 90% style = \"border: thin silver solid; padding: 0px\">\n",
    "      <figcaption style = \"text-align: center; font-style: italic\">Fig 3. Deep Q-Learning with Experience Replay.</figcaption>\n",
    "</figure>"
   ]
  },
  {
   "cell_type": "markdown",
   "metadata": {},
   "source": [
    "<a name=\"ex02\"></a>\n",
    "### Exercise 2\n",
    "\n",
    "In this exercise you will implement line ***12*** of the algorithm outlined in *Fig 3* above and you will also compute the loss between the $y$ targets and the $Q(s,a)$ values. In the cell below, complete the `compute_loss` function by setting the $y$ targets equal to:\n",
    "\n",
    "$$\n",
    "\\begin{equation}\n",
    "    y_j =\n",
    "    \\begin{cases}\n",
    "      R_j & \\text{if episode terminates at step  } j+1\\\\\n",
    "      R_j + \\gamma \\max_{a'}\\hat{Q}(s_{j+1},a') & \\text{otherwise}\\\\\n",
    "    \\end{cases}       \n",
    "\\end{equation}\n",
    "$$\n",
    "\n",
    "Here are a couple of things to note:\n",
    "\n",
    "* The `compute_loss` function takes in a mini-batch of experience tuples. This mini-batch of experience tuples is unpacked to extract the `states`, `actions`, `rewards`, `next_states`, and `done_vals`. You should keep in mind that these variables are *TensorFlow Tensors* whose size will depend on the mini-batch size. For example, if the mini-batch size is `64` then both `rewards` and `done_vals` will be TensorFlow Tensors with `64` elements.\n",
    "\n",
    "\n",
    "* Using `if/else` statements to set the $y$ targets will not work when the variables are tensors with many elements. However, notice that you can use the `done_vals` to implement the above in a single line of code. To do this, recall that the `done` variable is a Boolean variable that takes the value `True` when an episode terminates at step $j+1$ and it is `False` otherwise. Taking into account that a Boolean value of `True` has the numerical value of `1` and a Boolean value of `False` has the numerical value of `0`, you can use the factor `(1 - done_vals)` to implement the above in a single line of code. Here's a hint: notice that `(1 - done_vals)` has a value of `0` when `done_vals` is `True` and a value of `1` when `done_vals` is `False`. \n",
    "\n",
    "Lastly, compute the loss by calculating the Mean-Squared Error (`MSE`) between the `y_targets` and the `q_values`. To calculate the mean-squared error you should use the already imported package `MSE`:\n",
    "```python\n",
    "from tensorflow.keras.losses import MSE\n",
    "```"
   ]
  },
  {
   "cell_type": "code",
   "execution_count": 22,
   "metadata": {
    "deletable": false
   },
   "outputs": [],
   "source": [
    "# UNQ_C2\n",
    "# GRADED FUNCTION: calculate_loss\n",
    "\n",
    "def compute_loss(experiences, gamma, q_network, target_q_network):\n",
    "    \"\"\" \n",
    "    Calculates the loss.\n",
    "    \n",
    "    Args:\n",
    "      experiences: (tuple) tuple of [\"state\", \"action\", \"reward\", \"next_state\", \"done\"] namedtuples\n",
    "      gamma: (float) The discount factor.\n",
    "      q_network: (tf.keras.Sequential) Keras model for predicting the q_values\n",
    "      target_q_network: (tf.keras.Sequential) Keras model for predicting the targets\n",
    "          \n",
    "    Returns:\n",
    "      loss: (TensorFlow Tensor(shape=(0,), dtype=int32)) the Mean-Squared Error between\n",
    "            the y targets and the Q(s,a) values.\n",
    "    \"\"\"\n",
    "\n",
    "    # Unpack the mini-batch of experience tuples\n",
    "    states, actions, rewards, next_states, done_vals = experiences\n",
    "    \n",
    "    # Compute max Q^(s,a)\n",
    "    max_qsa = tf.reduce_max(target_q_network(next_states), axis=-1)\n",
    "    \n",
    "    # Set y = R if episode terminates, otherwise set y = R + γ max Q^(s,a).\n",
    "    ### START CODE HERE ###\n",
    "    y_targets=rewards+gamma*max_qsa*(1-done_vals)\n",
    "    '''y_targets=np.zeros(done_vals.shape)\n",
    "    R=rewards\n",
    "    for i in range(done_vals.shape[0]):\n",
    "        if(1-done_vals[i]):\n",
    "            y_targets[i]=R[i]+gamma*max_qsa[i]\n",
    "        else:\n",
    "            y_targets[i] = R[i]\n",
    "    '''\n",
    "    ### END CODE HERE ###\n",
    "    \n",
    "    # Get the q_values and reshape to match y_targets\n",
    "    q_values = q_network(states)\n",
    "    q_values = tf.gather_nd(q_values, tf.stack([tf.range(q_values.shape[0]),\n",
    "                                                tf.cast(actions, tf.int32)], axis=1))\n",
    "        \n",
    "    # Compute the loss\n",
    "    ### START CODE HERE ### \n",
    "    loss = MSE(y_targets,q_values)\n",
    "    ### END CODE HERE ### \n",
    "    \n",
    "    return loss"
   ]
  },
  {
   "cell_type": "code",
   "execution_count": 23,
   "metadata": {
    "deletable": false,
    "editable": false
   },
   "outputs": [
    {
     "name": "stdout",
     "output_type": "stream",
     "text": [
      "\u001b[92mAll tests passed!\n"
     ]
    }
   ],
   "source": [
    "# UNIT TEST    \n",
    "test_compute_loss(compute_loss)"
   ]
  },
  {
   "cell_type": "markdown",
   "metadata": {},
   "source": [
    "<details>\n",
    "  <summary><font size=\"3\" color=\"darkgreen\"><b>Click for hints</b></font></summary>\n",
    "    \n",
    "```python\n",
    "def compute_loss(experiences, gamma, q_network, target_q_network):\n",
    "    \"\"\" \n",
    "    Calculates the loss.\n",
    "    \n",
    "    Args:\n",
    "      experiences: (tuple) tuple of [\"state\", \"action\", \"reward\", \"next_state\", \"done\"] namedtuples\n",
    "      gamma: (float) The discount factor.\n",
    "      q_network: (tf.keras.Sequential) Keras model for predicting the q_values\n",
    "      target_q_network: (tf.keras.Sequential) Keras model for predicting the targets\n",
    "          \n",
    "    Returns:\n",
    "      loss: (TensorFlow Tensor(shape=(0,), dtype=int32)) the Mean-Squared Error between\n",
    "            the y targets and the Q(s,a) values.\n",
    "    \"\"\"\n",
    "\n",
    "    \n",
    "    # Unpack the mini-batch of experience tuples\n",
    "    states, actions, rewards, next_states, done_vals = experiences\n",
    "    \n",
    "    # Compute max Q^(s,a)\n",
    "    max_qsa = tf.reduce_max(target_q_network(next_states), axis=-1)\n",
    "    \n",
    "    # Set y = R if episode terminates, otherwise set y = R + γ max Q^(s,a).\n",
    "    y_targets = rewards + (gamma * max_qsa * (1 - done_vals))\n",
    "    \n",
    "    # Get the q_values\n",
    "    q_values = q_network(states)\n",
    "    q_values = tf.gather_nd(q_values, tf.stack([tf.range(q_values.shape[0]),\n",
    "                                                tf.cast(actions, tf.int32)], axis=1))\n",
    "    \n",
    "    # Calculate the loss\n",
    "    loss = MSE(y_targets, q_values)\n",
    "    \n",
    "    return loss\n",
    "\n",
    "``` \n",
    "    "
   ]
  },
  {
   "cell_type": "markdown",
   "metadata": {},
   "source": [
    "<a name=\"8\"></a>\n",
    "## 8 - Update the Network Weights\n",
    "\n",
    "We will use the `agent_learn` function below to implement lines ***12 -14*** of the algorithm outlined in [Fig 3](#7). The `agent_learn` function will update the weights of the $Q$ and target $\\hat Q$ networks using a custom training loop. Because we are using a custom training loop we need to retrieve the gradients via a `tf.GradientTape` instance, and then call `optimizer.apply_gradients()` to update the weights of our $Q$-Network. Note that we are also using the `@tf.function` decorator to increase performance. Without this decorator our training will take twice as long. If you would like to know more about how to increase performance with `@tf.function` take a look at the [TensorFlow documentation](https://www.tensorflow.org/guide/function).\n",
    "\n",
    "The last line of this function updates the weights of the target $\\hat Q$-Network using a [soft update](#6.1). If you want to know how this is implemented in code we encourage you to take a look at the `utils.update_target_network` function in the `utils` module."
   ]
  },
  {
   "cell_type": "code",
   "execution_count": 24,
   "metadata": {
    "deletable": false,
    "editable": false
   },
   "outputs": [],
   "source": [
    "@tf.function\n",
    "def agent_learn(experiences, gamma):\n",
    "    \"\"\"\n",
    "    Updates the weights of the Q networks.\n",
    "    \n",
    "    Args:\n",
    "      experiences: (tuple) tuple of [\"state\", \"action\", \"reward\", \"next_state\", \"done\"] namedtuples\n",
    "      gamma: (float) The discount factor.\n",
    "    \n",
    "    \"\"\"\n",
    "    \n",
    "    # Calculate the loss\n",
    "    with tf.GradientTape() as tape:\n",
    "        loss = compute_loss(experiences, gamma, q_network, target_q_network)\n",
    "\n",
    "    # Get the gradients of the loss with respect to the weights.\n",
    "    gradients = tape.gradient(loss, q_network.trainable_variables)\n",
    "    \n",
    "    # Update the weights of the q_network.\n",
    "    optimizer.apply_gradients(zip(gradients, q_network.trainable_variables))\n",
    "\n",
    "    # update the weights of target q_network\n",
    "    utils.update_target_network(q_network, target_q_network)"
   ]
  },
  {
   "cell_type": "markdown",
   "metadata": {},
   "source": [
    "<a name=\"9\"></a>\n",
    "## 9 - Train the Agent\n",
    "\n",
    "We are now ready to train our agent to solve the Lunar Lander environment. In the cell below we will implement the algorithm in [Fig 3](#7) line by line (please note that we have included the same algorithm below for easy reference. This will prevent you from scrolling up and down the notebook):\n",
    "\n",
    "* **Line 1**: We initialize the `memory_buffer` with a capacity of $N =$ `MEMORY_SIZE`. Notice that we are using a `deque` as the data structure for our `memory_buffer`.\n",
    "\n",
    "\n",
    "* **Line 2**: We skip this line since we already initialized the `q_network` in [Exercise 1](#ex01).\n",
    "\n",
    "\n",
    "* **Line 3**: We initialize the `target_q_network` by setting its weights to be equal to those of the `q_network`.\n",
    "\n",
    "\n",
    "* **Line 4**: We start the outer loop. Notice that we have set $M =$ `num_episodes = 2000`. This number is reasonable because the agent should be able to solve the Lunar Lander environment in less than `2000` episodes using this notebook's default parameters.\n",
    "\n",
    "\n",
    "* **Line 5**: We use the `.reset()` method to reset the environment to the initial state and get the initial state.\n",
    "\n",
    "\n",
    "* **Line 6**: We start the inner loop. Notice that we have set $T =$ `max_num_timesteps = 1000`. This means that the episode will automatically terminate if the episode hasn't terminated after `1000` time steps.\n",
    "\n",
    "\n",
    "* **Line 7**: The agent observes the current `state` and chooses an `action` using an $\\epsilon$-greedy policy. Our agent starts out using a value of $\\epsilon =$ `epsilon = 1` which yields an $\\epsilon$-greedy policy that is equivalent to the equiprobable random policy. This means that at the beginning of our training, the agent is just going to take random actions regardless of the observed `state`. As training progresses we will decrease the value of $\\epsilon$ slowly towards a minimum value using a given $\\epsilon$-decay rate. We want this minimum value to be close to zero because a value of $\\epsilon = 0$ will yield an $\\epsilon$-greedy policy that is equivalent to the greedy policy. This means that towards the end of training, the agent will lean towards selecting the `action` that it believes (based on its past experiences) will maximize $Q(s,a)$. We will set the minimum $\\epsilon$ value to be `0.01` and not exactly 0 because we always want to keep a little bit of exploration during training. If you want to know how this is implemented in code we encourage you to take a look at the `utils.get_action` function in the `utils` module.\n",
    "\n",
    "\n",
    "* **Line 8**: We use the `.step()` method to take the given `action` in the environment and get the `reward` and the `next_state`. \n",
    "\n",
    "\n",
    "* **Line 9**: We store the `experience(state, action, reward, next_state, done)` tuple in our `memory_buffer`. Notice that we also store the `done` variable so that we can keep track of when an episode terminates. This allowed us to set the $y$ targets in [Exercise 2](#ex02).\n",
    "\n",
    "\n",
    "* **Line 10**: We check if the conditions are met to perform a learning update. We do this by using our custom `utils.check_update_conditions` function. This function checks if $C =$ `NUM_STEPS_FOR_UPDATE = 4` time steps have occured and if our `memory_buffer` has enough experience tuples to fill a mini-batch. For example, if the mini-batch size is `64`, then our `memory_buffer` should have more than `64` experience tuples in order to pass the latter condition. If the conditions are met, then the `utils.check_update_conditions` function will return a value of `True`, otherwise it will return a value of `False`.\n",
    "\n",
    "\n",
    "* **Lines 11 - 14**: If the `update` variable is `True` then we perform a learning update. The learning update consists of sampling a random mini-batch of experience tuples from our `memory_buffer`, setting the $y$ targets, performing gradient descent, and updating the weights of the networks. We will use the `agent_learn` function we defined in [Section 8](#8) to perform the latter 3.\n",
    "\n",
    "\n",
    "* **Line 15**: At the end of each iteration of the inner loop we set `next_state` as our new `state` so that the loop can start again from this new state. In addition, we check if the episode has reached a terminal state (i.e we check if `done = True`). If a terminal state has been reached, then we break out of the inner loop.\n",
    "\n",
    "\n",
    "* **Line 16**: At the end of each iteration of the outer loop we update the value of $\\epsilon$, and check if the environment has been solved. We consider that the environment has been solved if the agent receives an average of `200` points in the last `100` episodes. If the environment has not been solved we continue the outer loop and start a new episode.\n",
    "\n",
    "Finally, we wanted to note that we have included some extra variables to keep track of the total number of points the agent received in each episode. This will help us determine if the agent has solved the environment and it will also allow us to see how our agent performed during training. We also use the `time` module to measure how long the training takes. \n",
    "\n",
    "<br>\n",
    "<br>\n",
    "<figure>\n",
    "  <img src = \"images/deep_q_algorithm.png\" width = 90% style = \"border: thin silver solid; padding: 0px\">\n",
    "      <figcaption style = \"text-align: center; font-style: italic\">Fig 4. Deep Q-Learning with Experience Replay.</figcaption>\n",
    "</figure>\n",
    "<br>\n",
    "\n",
    "**Note:** With this notebook's default parameters, the following cell takes between 10 to 15 minutes to run. "
   ]
  },
  {
   "cell_type": "code",
   "execution_count": 29,
   "metadata": {
    "deletable": false,
    "editable": false
   },
   "outputs": [
    {
     "name": "stdout",
     "output_type": "stream",
     "text": [
      "Episode 100 | Total point average of the last 100 episodes: -100.09\n",
      "Episode 200 | Total point average of the last 100 episodes: -30.10\n",
      "Episode 300 | Total point average of the last 100 episodes: -27.54\n",
      "Episode 400 | Total point average of the last 100 episodes: -17.35\n",
      "Episode 500 | Total point average of the last 100 episodes: 49.233\n",
      "Episode 580 | Total point average of the last 100 episodes: 200.36\n",
      "\n",
      "Environment solved in 580 episodes!\n",
      "\n",
      "Total Runtime: 802.24 s (13.37 min)\n"
     ]
    }
   ],
   "source": [
    "start = time.time()\n",
    "\n",
    "num_episodes = 2000\n",
    "max_num_timesteps = 1000\n",
    "\n",
    "total_point_history = []\n",
    "\n",
    "num_p_av = 100    # number of total points to use for averaging\n",
    "epsilon = 1.0     # initial ε value for ε-greedy policy\n",
    "\n",
    "# Create a memory buffer D with capacity N\n",
    "memory_buffer = deque(maxlen=MEMORY_SIZE)\n",
    "\n",
    "# Set the target network weights equal to the Q-Network weights\n",
    "target_q_network.set_weights(q_network.get_weights())\n",
    "\n",
    "for i in range(num_episodes):\n",
    "    \n",
    "    # Reset the environment to the initial state and get the initial state\n",
    "    state = env.reset()\n",
    "    total_points = 0\n",
    "    \n",
    "    for t in range(max_num_timesteps):\n",
    "        \n",
    "        # From the current state S choose an action A using an ε-greedy policy\n",
    "        state_qn = np.expand_dims(state, axis=0)  # state needs to be the right shape for the q_network\n",
    "        q_values = q_network(state_qn)\n",
    "        action = utils.get_action(q_values, epsilon)\n",
    "        \n",
    "        # Take action A and receive reward R and the next state S'\n",
    "        next_state, reward, done, _ = env.step(action)\n",
    "        \n",
    "        # Store experience tuple (S,A,R,S') in the memory buffer.\n",
    "        # We store the done variable as well for convenience.\n",
    "        memory_buffer.append(experience(state, action, reward, next_state, done))\n",
    "        \n",
    "        # Only update the network every NUM_STEPS_FOR_UPDATE time steps.\n",
    "        update = utils.check_update_conditions(t, NUM_STEPS_FOR_UPDATE, memory_buffer)\n",
    "        \n",
    "        if update:\n",
    "            # Sample random mini-batch of experience tuples (S,A,R,S') from D\n",
    "            experiences = utils.get_experiences(memory_buffer)\n",
    "            \n",
    "            # Set the y targets, perform a gradient descent step,\n",
    "            # and update the network weights.\n",
    "            agent_learn(experiences, GAMMA)\n",
    "        \n",
    "        state = next_state.copy()\n",
    "        total_points += reward\n",
    "        \n",
    "        if done:\n",
    "            break\n",
    "            \n",
    "    total_point_history.append(total_points)\n",
    "    av_latest_points = np.mean(total_point_history[-num_p_av:])\n",
    "    \n",
    "    # Update the ε value\n",
    "    epsilon = utils.get_new_eps(epsilon)\n",
    "\n",
    "    print(f\"\\rEpisode {i+1} | Total point average of the last {num_p_av} episodes: {av_latest_points:.2f}\", end=\"\")\n",
    "\n",
    "    if (i+1) % num_p_av == 0:\n",
    "        print(f\"\\rEpisode {i+1} | Total point average of the last {num_p_av} episodes: {av_latest_points:.2f}\")\n",
    "\n",
    "    # We will consider that the environment is solved if we get an\n",
    "    # average of 200 points in the last 100 episodes.\n",
    "    if av_latest_points >= 200.0:\n",
    "        print(f\"\\n\\nEnvironment solved in {i+1} episodes!\")\n",
    "        q_network.save('lunar_lander_model.h5')\n",
    "        break\n",
    "        \n",
    "tot_time = time.time() - start\n",
    "\n",
    "print(f\"\\nTotal Runtime: {tot_time:.2f} s ({(tot_time/60):.2f} min)\")"
   ]
  },
  {
   "cell_type": "markdown",
   "metadata": {},
   "source": [
    "We can plot the total point history along with the moving average to see how our agent improved during training. If you want to know about the different plotting options available in the `utils.plot_history` function we encourage you to take a look at the `utils` module."
   ]
  },
  {
   "cell_type": "code",
   "execution_count": 30,
   "metadata": {
    "deletable": false,
    "editable": false,
    "id": "E_EUXxurfe8m",
    "scrolled": false
   },
   "outputs": [
    {
     "data": {
      "image/png": "[encoded data removed]",
      "text/plain": [
       "<Figure size 720x504 with 1 Axes>"
      ]
     },
     "metadata": {},
     "output_type": "display_data"
    }
   ],
   "source": [
    "# Plot the total point history along with the moving average\n",
    "utils.plot_history(total_point_history)"
   ]
  },
  {
   "cell_type": "markdown",
   "metadata": {
    "id": "c_xwgaX5MnYt"
   },
   "source": [
    "<a name=\"10\"></a>\n",
    "## 10 - See the Trained Agent In Action\n",
    "\n",
    "Now that we have trained our agent, we can see it in action. We will use the `utils.create_video` function to create a video of our agent interacting with the environment using the trained $Q$-Network. The `utils.create_video` function uses the `imageio` library to create the video. This library produces some warnings that can be distracting, so, to suppress these warnings we run the code below."
   ]
  },
  {
   "cell_type": "code",
   "execution_count": 31,
   "metadata": {
    "deletable": false,
    "editable": false
   },
   "outputs": [],
   "source": [
    "# Suppress warnings from imageio\n",
    "import logging\n",
    "logging.getLogger().setLevel(logging.ERROR)"
   ]
  },
  {
   "cell_type": "markdown",
   "metadata": {},
   "source": [
    "In the cell below we create a video of our agent interacting with the Lunar Lander environment using the trained `q_network`. The video is saved to the `videos` folder with the given `filename`. We use the `utils.embed_mp4` function to embed the video in the Jupyter Notebook so that we can see it here directly without having to download it.\n",
    "\n",
    "We should note that since the lunar lander starts with a random initial force applied to its center of mass, every time you run the cell below you will see a different video. If the agent was trained properly, it should be able to land the lunar lander in the landing pad every time, regardless of the initial force applied to its center of mass."
   ]
  },
  {
   "cell_type": "code",
   "execution_count": 32,
   "metadata": {
    "deletable": false,
    "editable": false,
    "id": "3Ttb_zLeJKiG"
   },
   "outputs": [
    {
     "data": {
      "text/html": [
       "\n",
       "    <video width=\"840\" height=\"480\" controls>\n",
       "    <source src=\"data:video/mp4;base64,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\" type=\"video/mp4\">\n",
       "    Your browser does not support the video tag.\n",
       "    </video>"
      ],
      "text/plain": [
       "<IPython.core.display.HTML object>"
      ]
     },
     "execution_count": 32,
     "metadata": {},
     "output_type": "execute_result"
    }
   ],
   "source": [
    "filename = \"./videos/lunar_lander.mp4\"\n",
    "\n",
    "utils.create_video(filename, env, q_network)\n",
    "utils.embed_mp4(filename)"
   ]
  },
  {
   "cell_type": "markdown",
   "metadata": {},
   "source": [
    "<a name=\"11\"></a>\n",
    "## 11 - Congratulations!\n",
    "\n",
    "You have successfully used Deep Q-Learning with Experience Replay to train an agent to land a lunar lander safely on a landing pad on the surface of the moon. Congratulations!"
   ]
  },
  {
   "cell_type": "markdown",
   "metadata": {},
   "source": [
    "<a name=\"12\"></a>\n",
    "## 12 - References\n",
    "\n",
    "If you would like to learn more about Deep Q-Learning, we recommend you check out the following papers.\n",
    "\n",
    "\n",
    "* Mnih, V., Kavukcuoglu, K., Silver, D. et al. Human-level control through deep reinforcement learning. Nature 518, 529–533 (2015).\n",
    "\n",
    "\n",
    "* Lillicrap, T. P., Hunt, J. J., Pritzel, A., et al. Continuous Control with Deep Reinforcement Learning. ICLR (2016).\n",
    "\n",
    "\n",
    "* Mnih, V., Kavukcuoglu, K., Silver, D. et al. Playing Atari with Deep Reinforcement Learning. arXiv e-prints.  arXiv:1312.5602 (2013)."
   ]
  },
  {
   "cell_type": "markdown",
   "metadata": {},
   "source": [
    "<details>\n",
    "  <summary><font size=\"2\" color=\"darkgreen\"><b>Please click here if you want to experiment with any of the non-graded code.</b></font></summary>\n",
    "    <p><i><b>Important Note: Please only do this when you've already passed the assignment to avoid problems with the autograder.</b></i>\n",
    "    <ol>\n",
    "        <li> On the notebook’s menu, click “View” > “Cell Toolbar” > “Edit Metadata”</li>\n",
    "        <li> Hit the “Edit Metadata” button next to the code cell which you want to lock/unlock</li>\n",
    "        <li> Set the attribute value for “editable” to:\n",
    "            <ul>\n",
    "                <li> “true” if you want to unlock it </li>\n",
    "                <li> “false” if you want to lock it </li>\n",
    "            </ul>\n",
    "        </li>\n",
    "        <li> On the notebook’s menu, click “View” > “Cell Toolbar” > “None” </li>\n",
    "    </ol>\n",
    "    <p> Here's a short demo of how to do the steps above: \n",
    "        <br>\n",
    "        <img src=\"https://lh3.google.com/u/0/d/14Xy_Mb17CZVgzVAgq7NCjMVBvSae3xO1\" align=\"center\" alt=\"unlock_cells.gif\">\n",
    "</details>"
   ]
  }
 ],
 "metadata": {
  "accelerator": "GPU",
  "colab": {
   "collapsed_sections": [],
   "name": "TensorFlow - Lunar Lander.ipynb",
   "provenance": []
  },
  "kernelspec": {
   "display_name": "Python 3",
   "language": "python",
   "name": "python3"
  },
  "language_info": {
   "codemirror_mode": {
    "name": "ipython",
    "version": 3
   },
   "file_extension": ".py",
   "mimetype": "text/x-python",
   "name": "python",
   "nbconvert_exporter": "python",
   "pygments_lexer": "ipython3",
   "version": "3.7.6"
  }
 },
 "nbformat": 4,
 "nbformat_minor": 1
}
